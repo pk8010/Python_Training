{
 "cells": [
  {
   "cell_type": "markdown",
   "metadata": {},
   "source": [
    "\n",
    "\n",
    "### Introduction to OOP\n",
    "\n",
    "#### Object Oriented Programming Explained Simply for Data Scientists\n",
    "\n",
    "Reference Used -> https://mlwhiz.com/blog/2020/11/24/object-oriented-programming/"
   ]
  },
  {
   "cell_type": "markdown",
   "metadata": {},
   "source": [
    "#### What are Objects and Classes?\n"
   ]
  },
  {
   "cell_type": "markdown",
   "metadata": {},
   "source": [
    "Everything in Python is an object and classes are a blueprint of objects.\n"
   ]
  },
  {
   "cell_type": "code",
   "execution_count": 2,
   "metadata": {},
   "outputs": [],
   "source": [
    "a = 2\n",
    "b = \"Hello!\""
   ]
  },
  {
   "cell_type": "code",
   "execution_count": 3,
   "metadata": {},
   "outputs": [
    {
     "name": "stdout",
     "output_type": "stream",
     "text": [
      "<class 'str'>\n",
      "<class 'int'>\n"
     ]
    }
   ],
   "source": [
    "print(type(b))\n",
    "print(type(a))"
   ]
  },
  {
   "cell_type": "markdown",
   "metadata": {},
   "source": [
    "We are creating an object a of class int holding the value 2 And and object b of class str holding the value “Hello!”. In a way, these two particular classes are provided to us by default when we use numbers or strings."
   ]
  },
  {
   "cell_type": "markdown",
   "metadata": {},
   "source": [
    "Apart from these a lot of us end up working with classes and objects without even realizing it. For example, we are actually using a class when you use any scikit Learn Model.\n",
    "\n"
   ]
  },
  {
   "cell_type": "code",
   "execution_count": null,
   "metadata": {},
   "outputs": [],
   "source": [
    "# RandomForestClassifier - class\n",
    "\n",
    "# clf - objec\n",
    "\n",
    "# fit method\n",
    "\n",
    "# clf = RandomForestClassifier() # Model // Algortithm name\n",
    "# clf.fit(X,y) #X is the feature and y is  dependent variable\n",
    "\n",
    "from sklearn.ensemble import RandomForestClassifier\n",
    "X = [[0, 0], [1, 1]]\n",
    "Y = [0, 1]\n",
    "\n",
    "clf = RandomForestClassifier(n_estimators=10) # creation of class--name of class and some\n",
    "\n",
    "\n",
    "# clf = clf.fit(X, Y)\n",
    "clf."
   ]
  },
  {
   "cell_type": "markdown",
   "metadata": {},
   "source": [
    "Here your classifier clf is an object and fit is a method defined in the class RandomForestClassifier"
   ]
  },
  {
   "cell_type": "markdown",
   "metadata": {},
   "source": [
    "#### But Why Classes?\n",
    "So, we use them a lot when we are working with Python. But why really. What is it with classes? I could do the same with functions?"
   ]
  },
  {
   "cell_type": "markdown",
   "metadata": {},
   "source": [
    "But classes really provide you with a lot of power compared to functions. To quote an example, the str class has a lot of functions defined for the object which we can access just by pressing tab."
   ]
  },
  {
   "cell_type": "code",
   "execution_count": 5,
   "metadata": {},
   "outputs": [],
   "source": [
    "b = 1\n",
    "b.\n",
    "\n",
    "a = \"string\"\n",
    "\n",
    "# a.\n",
    "# encapsulation\n",
    "\n",
    "# a.\n"
   ]
  },
  {
   "cell_type": "markdown",
   "metadata": {},
   "source": [
    "This property of classes is called encapsulation. From Wikipedia — encapsulation refers to the bundling of data with the methods that operate on that data, or the restricting of direct access to some of an object’s components."
   ]
  },
  {
   "cell_type": "markdown",
   "metadata": {},
   "source": [
    "Here the str class bundles the data(“Hello!”) with all the methods that would operate on data. The RandomForestClassifier class bundles all the classifier methods(fit, predict etc.)"
   ]
  },
  {
   "cell_type": "markdown",
   "metadata": {},
   "source": [
    "Apart from this, Class usage can also help us to make the code much more modular and easy to maintain. So say we were to create a library like Scikit-Learn. We need to create many models, and each model will have a fit and predict method. If we don’t use classes, we will end up with a lot of functions for each of our different models like:"
   ]
  },
  {
   "cell_type": "markdown",
   "metadata": {},
   "source": [
    "\n",
    "RFCFit\n",
    "\n",
    "RFCPredict\n",
    "\n",
    "SVCFit\n",
    "\n",
    "SVCPredict\n",
    "\n",
    "LRFit\n",
    "\n",
    "LRPredict\n"
   ]
  },
  {
   "cell_type": "markdown",
   "metadata": {},
   "source": [
    "#### Creating a Class"
   ]
  },
  {
   "cell_type": "code",
   "execution_count": 6,
   "metadata": {},
   "outputs": [],
   "source": [
    "\n",
    "#Syntax\n",
    "class myClass:\n",
    "    def __init__(self, a, b):  # constructor which will called automatically once\n",
    "#         the object is created.\n",
    "        self.a = a\n",
    "        self.b = b\n",
    "\n",
    "#     def somefunc(self, arg1, arg2):\n",
    "#         SOME CODE HERE"
   ]
  },
  {
   "cell_type": "code",
   "execution_count": 10,
   "metadata": {},
   "outputs": [
    {
     "name": "stdout",
     "output_type": "stream",
     "text": [
      "10\n",
      "20\n"
     ]
    }
   ],
   "source": [
    "obj_myclass = myClass(10,20)\n",
    "print(obj_myclass.a)\n",
    "print(obj_myclass.b)"
   ]
  },
  {
   "cell_type": "markdown",
   "metadata": {},
   "source": [
    "Bank Account Example\n",
    "\n",
    "##### Object\n",
    "An object (instance) is an instantiation of a class. When class is defined, only the description for the object is defined. Therefore, no memory or storage is allocated.\n",
    "\n",
    "##### Methods\n",
    "Methods are functions defined inside the body of a class. They are used to define the behaviors of an object.\n",
    "\n"
   ]
  },
  {
   "cell_type": "code",
   "execution_count": 98,
   "metadata": {},
   "outputs": [
    {
     "data": {
      "text/plain": [
       "983"
      ]
     },
     "execution_count": 98,
     "metadata": {},
     "output_type": "execute_result"
    }
   ],
   "source": [
    "import random\n",
    "random.randint(0,1000)"
   ]
  },
  {
   "cell_type": "code",
   "execution_count": 110,
   "metadata": {},
   "outputs": [],
   "source": [
    "class Account:\n",
    "\n",
    "    def __init__(self, account_name, balance = 0):  #__init__ -initialization\n",
    "        self.account_name = account_name\n",
    "        self.account_number = random.randint(10000,100000)\n",
    "        self.pin_number = random.randint(100,1000)\n",
    "        print(\"Account opened successfully and your account number and pin is\", self.account_number, self.pin_number) \n",
    "        if balance < 500:\n",
    "            raise ValueError(\"The minimum balance required to open the account is 500\")\n",
    "        else:\n",
    "            self.balance = balance                        \n",
    "            \n",
    "    def deposit(self, amount):\n",
    "        if amount%500 == 0:\n",
    "            self.balance += amount  # addition\n",
    "        else:\n",
    "            print(\"Please deposit in multiplation of 500\")\n",
    "    \n",
    "    def withdraw(self,amount):\n",
    "        if amount <= self.balance:\n",
    "            self.balance -= amount\n",
    "            print(\"Amount has been withdrawn\")\n",
    "        else:\n",
    "            print(\"Cannot Withdraw amounts as less funds!!!\")\n",
    "    def withdrawfromOther(self, Account, amount, PIN):\n",
    "        if amount <= Account.balance:\n",
    "            Account.balance -= amount\n",
    "            self.balance += amount\n",
    "            print(\"Amount has been withdrawn\")\n",
    "        else:\n",
    "            print(\"Cannot Withdraw amounts as less funds!!!\")"
   ]
  },
  {
   "cell_type": "code",
   "execution_count": 111,
   "metadata": {},
   "outputs": [
    {
     "name": "stdout",
     "output_type": "stream",
     "text": [
      "Account opened successfully and your account number and pin is 63162 844\n"
     ]
    }
   ],
   "source": [
    "account_of_king = Account(\"king\", 1000)  #creation of object"
   ]
  },
  {
   "cell_type": "code",
   "execution_count": 112,
   "metadata": {},
   "outputs": [
    {
     "name": "stdout",
     "output_type": "stream",
     "text": [
      "Account opened successfully and your account number and pin is 83340 622\n"
     ]
    }
   ],
   "source": [
    "account_of_rahul = Account(\"Rahul\",800)"
   ]
  },
  {
   "cell_type": "code",
   "execution_count": 97,
   "metadata": {},
   "outputs": [
    {
     "data": {
      "text/plain": [
       "2500"
      ]
     },
     "execution_count": 97,
     "metadata": {},
     "output_type": "execute_result"
    }
   ],
   "source": [
    "account_of_king.balance"
   ]
  },
  {
   "cell_type": "code",
   "execution_count": 90,
   "metadata": {},
   "outputs": [
    {
     "name": "stdout",
     "output_type": "stream",
     "text": [
      "Cannot Withdraw amounts as less funds!!!\n"
     ]
    }
   ],
   "source": [
    "# account_of_king.withdrawfromOther(account_of_rahul,200)\n",
    "account_of_rahul.withdrawfromOther(account_of_king,2000)"
   ]
  },
  {
   "cell_type": "code",
   "execution_count": 96,
   "metadata": {},
   "outputs": [],
   "source": [
    "account_of_king.deposit(1500)\n",
    "# account_of_king - this object contains details of account holder King"
   ]
  },
  {
   "cell_type": "code",
   "execution_count": 20,
   "metadata": {},
   "outputs": [
    {
     "name": "stdout",
     "output_type": "stream",
     "text": [
      "Amount has been withdrawn\n"
     ]
    }
   ],
   "source": [
    "account_of_king.withdraw(400)\n",
    "# account_of_king.balance"
   ]
  },
  {
   "cell_type": "code",
   "execution_count": 69,
   "metadata": {},
   "outputs": [
    {
     "name": "stdout",
     "output_type": "stream",
     "text": [
      "Account opened successfully\n"
     ]
    }
   ],
   "source": []
  },
  {
   "cell_type": "code",
   "execution_count": 30,
   "metadata": {},
   "outputs": [],
   "source": [
    "account_of_rahul.deposit(200)"
   ]
  },
  {
   "cell_type": "code",
   "execution_count": 66,
   "metadata": {},
   "outputs": [
    {
     "data": {
      "text/plain": [
       "800"
      ]
     },
     "execution_count": 66,
     "metadata": {},
     "output_type": "execute_result"
    }
   ],
   "source": [
    "account_of_rahul.balance"
   ]
  },
  {
   "cell_type": "code",
   "execution_count": 33,
   "metadata": {},
   "outputs": [
    {
     "name": "stdout",
     "output_type": "stream",
     "text": [
      "Amount has been withdrawn\n"
     ]
    }
   ],
   "source": [
    "account_of_rahul.withdraw(400)"
   ]
  },
  {
   "cell_type": "code",
   "execution_count": 35,
   "metadata": {},
   "outputs": [],
   "source": [
    "# Account.deposit(account_of_king, 20)  # to userstand self another way (self, amount)\n",
    "account_of_king.deposit(200)  # One Way"
   ]
  },
  {
   "cell_type": "markdown",
   "metadata": {},
   "source": [
    "We can create an account with a name Rahul and having an amount of 100 using:\n",
    "\n"
   ]
  },
  {
   "cell_type": "code",
   "execution_count": null,
   "metadata": {},
   "outputs": [],
   "source": [
    "myAccount = Account(\"Rahul\",100)"
   ]
  },
  {
   "cell_type": "markdown",
   "metadata": {},
   "source": [
    "Access the data for this account"
   ]
  },
  {
   "cell_type": "code",
   "execution_count": null,
   "metadata": {},
   "outputs": [],
   "source": [
    "myAccount.account_name"
   ]
  },
  {
   "cell_type": "code",
   "execution_count": null,
   "metadata": {},
   "outputs": [],
   "source": [
    "myAccount.balance"
   ]
  },
  {
   "cell_type": "markdown",
   "metadata": {},
   "source": [
    "__init__ is a magic method --- Constructor, which gets run whenever we create the object and values are assigned. "
   ]
  },
  {
   "cell_type": "markdown",
   "metadata": {},
   "source": [
    "Calling a Function"
   ]
  },
  {
   "cell_type": "code",
   "execution_count": null,
   "metadata": {},
   "outputs": [],
   "source": [
    "myAccount.deposit(100)"
   ]
  },
  {
   "cell_type": "code",
   "execution_count": null,
   "metadata": {},
   "outputs": [],
   "source": [
    "myAccount.balance"
   ]
  },
  {
   "cell_type": "markdown",
   "metadata": {},
   "source": [
    "Our function deposit needed two arguments namely self and amount, yet we only provided one, and still, it works.\n",
    "\n",
    "Lets see another way of calling same function"
   ]
  },
  {
   "cell_type": "code",
   "execution_count": null,
   "metadata": {},
   "outputs": [],
   "source": [
    "Account.deposit(myAccount, 100)"
   ]
  },
  {
   "cell_type": "code",
   "execution_count": null,
   "metadata": {},
   "outputs": [],
   "source": [
    "myAccount.balance"
   ]
  },
  {
   "cell_type": "markdown",
   "metadata": {},
   "source": [
    "This above statement will only work incase  self and myAccount are exactly the same object. "
   ]
  },
  {
   "cell_type": "markdown",
   "metadata": {},
   "source": [
    "In myAccount.deposit(100) Python provides the same object myAccount to the function call as the argument self. And that is why self.balance in the function definition really refers to myAccount.balance"
   ]
  },
  {
   "cell_type": "markdown",
   "metadata": {},
   "source": [
    "#### The __init__() Function\n",
    "The examples above are classes and objects in their simplest form, and are not really useful in real life applications.\n",
    "\n",
    "To understand the meaning of classes we have to understand the built-in __init__() function.\n",
    "\n",
    "All classes have a function called __init__(), which is always executed when the class is being initiated.\n",
    "\n",
    "Use the __init__() function to assign values to object properties, or other operations that are necessary to do when the object is being created:"
   ]
  },
  {
   "cell_type": "code",
   "execution_count": 1,
   "metadata": {},
   "outputs": [
    {
     "name": "stdout",
     "output_type": "stream",
     "text": [
      "John\n",
      "36\n"
     ]
    }
   ],
   "source": [
    "class Person:\n",
    "    def __init__(self, name, age):\n",
    "        self.name = name\n",
    "        self.age = age\n",
    "\n",
    "p1 = Person(\"John\", 36)\n",
    "\n",
    "print(p1.name)\n",
    "print(p1.age)"
   ]
  },
  {
   "cell_type": "markdown",
   "metadata": {},
   "source": [
    "#### Inheritence"
   ]
  },
  {
   "cell_type": "markdown",
   "metadata": {},
   "source": [
    "Suppose you are working with Apple iPhone Division, and you have to create a different Class for each iPhone model. For this simple example, let us say that our iPhone’s first version currently does a single thing only — Makes a call and has some memory. We can write the class as:"
   ]
  },
  {
   "cell_type": "code",
   "execution_count": 144,
   "metadata": {},
   "outputs": [
    {
     "name": "stdout",
     "output_type": "stream",
     "text": [
      "I am calling to the given number Nature\n"
     ]
    },
    {
     "data": {
      "text/plain": [
       "123"
      ]
     },
     "execution_count": 144,
     "metadata": {},
     "output_type": "execute_result"
    }
   ],
   "source": [
    "class iPhone:\n",
    "    def __init__(self,user_id, memory_id ):\n",
    "        self.user_id = user_id\n",
    "        self.memory_id = memory_id\n",
    "    def call(self, num):\n",
    "        print(\"I am calling to the given number\", num)\n",
    "        \n",
    "class iPhone14(iPhone):\n",
    "    def __init__(self,user_id,memory_id,island):     \n",
    "        super().__init__(user_id, memory_id) # this funciton will call the previous init function\n",
    "        self.island = island\n",
    "    def taking_Video(self, video):\n",
    "        print(\"Taking the given video\", video)\n",
    "                \n",
    "iphone14_for_praveen = iPhone14(123,567, True)        \n",
    "iphone14_for_praveen.call(\"Nature\")\n",
    "\n",
    "# iphone14_for_praveen.memory_id\n",
    "iphone14_for_praveen.user_id\n"
   ]
  },
  {
   "cell_type": "code",
   "execution_count": 133,
   "metadata": {},
   "outputs": [
    {
     "name": "stdout",
     "output_type": "stream",
     "text": [
      "dog barking\n",
      "Animal Speaking\n",
      "Eating bread...\n"
     ]
    }
   ],
   "source": [
    "class Animal:  \n",
    "    def speak(self):  \n",
    "        print(\"Animal Speaking\")  \n",
    "        \n",
    "        \n",
    "#The child class Dog inherits the base class Animal  \n",
    "class Dog(Animal):  \n",
    "    def bark(self):  \n",
    "        print(\"dog barking\")  \n",
    "        \n",
    "                \n",
    "#The child class Dogchild inherits another child class Dog  \n",
    "class DogChild(Dog):  \n",
    "    def eat(self):  \n",
    "        print(\"Eating bread...\")  \n",
    "\n",
    "        \n",
    "        \n",
    "d = DogChild()  \n",
    "d.bark()  \n",
    "d.speak()  \n",
    "d.eat()  "
   ]
  },
  {
   "cell_type": "code",
   "execution_count": 137,
   "metadata": {},
   "outputs": [
    {
     "data": {
      "text/plain": [
       "0.8"
      ]
     },
     "execution_count": 137,
     "metadata": {},
     "output_type": "execute_result"
    }
   ],
   "source": [
    "class Calculation1:  \n",
    "    def Summation(self,a,b):  \n",
    "        return a+b;  \n",
    "    \n",
    "    \n",
    "class Calculation2:  \n",
    "    def Multiplication(self,a,b):  \n",
    "        return a*b;  \n",
    "    \n",
    "    \n",
    "class Derived(Calculation1,Calculation2):  \n",
    "    def Divide(self,a,b):  \n",
    "        return a/b;  \n",
    "    \n",
    "    \n",
    "    \n",
    "d = Derived()  \n",
    "# print(issubclass(Derived,Calculation2))  \n",
    "# print(issubclass(Calculation1,Calculation2)) \n",
    "\n",
    "d.Divide(4,5)"
   ]
  },
  {
   "cell_type": "code",
   "execution_count": 113,
   "metadata": {},
   "outputs": [],
   "source": [
    "# Syntaxt of inheritance\n",
    "# Parent Class\n",
    "class iPhone:\n",
    "    def __init__(self, memory, user_id):\n",
    "         self.memory = memory\n",
    "         self.mobile_id = user_id\n",
    "    def call(self, contactNum):\n",
    "        print(\"calling to given number \", contactNum)\n",
    "#         pass\n",
    "         # Some Implementation Here"
   ]
  },
  {
   "cell_type": "code",
   "execution_count": 114,
   "metadata": {},
   "outputs": [],
   "source": [
    "iphone = iPhone(6,123)"
   ]
  },
  {
   "cell_type": "code",
   "execution_count": 115,
   "metadata": {},
   "outputs": [
    {
     "name": "stdout",
     "output_type": "stream",
     "text": [
      "calling to given number  1223456\n"
     ]
    }
   ],
   "source": [
    "iphone.call(1223456)"
   ]
  },
  {
   "cell_type": "markdown",
   "metadata": {},
   "source": [
    "Now, Apple plans to launch iPhone1 and this iPhone Model introduces a new functionality — The ability to take a pic. One way to do this is to copy-paste the above code and create a new class iPhone1 which includes new function.\n",
    "\n",
    "Below is the other function"
   ]
  },
  {
   "cell_type": "code",
   "execution_count": 121,
   "metadata": {},
   "outputs": [],
   "source": [
    "#inheritance ---inherit the prorperty of parent class the child class, where we do not need to work\n",
    "# on the object of parent class.\n",
    "# Child Class\n",
    "# try:\n",
    "class iPhone1 (iPhone): #as the new class\n",
    "    # Child Class\n",
    "    def __init__(self, memory, user_id, keypad):\n",
    "        super().__init__(memory,user_id) # this funciton will call the previous init function\n",
    "        self.pics = [] # new  attribute of child class\n",
    "        self.keypad = keypad\n",
    "\n",
    "    def click_pic(self):\n",
    "         # Some Implementation Here\n",
    "        pic_taken = \"l\"\n",
    "        self.pics.append(pic_taken)\n",
    "        print(\"Picture Taken\")\n",
    "# except:\n",
    "#     print(\"some error\")\n",
    "    "
   ]
  },
  {
   "cell_type": "code",
   "execution_count": 122,
   "metadata": {},
   "outputs": [],
   "source": [
    "obj1 = iPhone1(34,123,345) "
   ]
  },
  {
   "cell_type": "code",
   "execution_count": 123,
   "metadata": {},
   "outputs": [
    {
     "name": "stdout",
     "output_type": "stream",
     "text": [
      "Picture Taken\n"
     ]
    }
   ],
   "source": [
    "# obj1.call(123456)\n",
    "obj1.click_pic()"
   ]
  },
  {
   "cell_type": "code",
   "execution_count": 124,
   "metadata": {
    "scrolled": true
   },
   "outputs": [
    {
     "data": {
      "text/plain": [
       "34"
      ]
     },
     "execution_count": 124,
     "metadata": {},
     "output_type": "execute_result"
    }
   ],
   "source": [
    "obj1.memory"
   ]
  },
  {
   "cell_type": "code",
   "execution_count": 127,
   "metadata": {},
   "outputs": [
    {
     "data": {
      "text/plain": [
       "123"
      ]
     },
     "execution_count": 127,
     "metadata": {},
     "output_type": "execute_result"
    }
   ],
   "source": [
    "obj1.mobile_id"
   ]
  },
  {
   "cell_type": "code",
   "execution_count": null,
   "metadata": {},
   "outputs": [],
   "source": [
    "obj1.call(123)"
   ]
  },
  {
   "cell_type": "markdown",
   "metadata": {},
   "source": [
    "As per Wikipedia : \n",
    "Inheritance is the mechanism of basing an object or class upon another object or class retaining similar implementation. Simply put, iPhone1 has access to all the variables and methods defined in class iPhone now.\n",
    "\n",
    "In this case, we don’t have to do any code duplication as we have inherited(taken) all the methods from our parent class iPhone. Thus we don’t have to define the call function again. Also, we don’t set the mobile_id and memory in the __init__ function using super."
   ]
  },
  {
   "cell_type": "markdown",
   "metadata": {},
   "source": [
    "#### But what is this super().__init__(memory,user_id)?"
   ]
  },
  {
   "cell_type": "markdown",
   "metadata": {},
   "source": [
    "In real life, your __init__ functions won’t be these nice two-line functions. You would need to define a lot of variables/attributes in your class and copying pasting them for the child class (here iPhone1) becomes cumbersome. Thus there exists super(). Here super().__init__() actually calls the __init__ method of the parent iPhone Class here. So here when the __init__ function of class iPhone1 runs it automatically sets the memory and user_id of the class using the __init__ function of the parent class."
   ]
  },
  {
   "cell_type": "markdown",
   "metadata": {},
   "source": [
    "#### Use of Inheritance ML/DS/DL?"
   ]
  },
  {
   "cell_type": "code",
   "execution_count": null,
   "metadata": {},
   "outputs": [],
   "source": [
    "# Deep Learning based class method\n",
    "# inheritance example in real world in deep learning application\n",
    "\n",
    "\n",
    "#  framework - pytorch\n",
    "\n",
    "#  Basic OOP-to work deep learning\n",
    "\n",
    "\n",
    "class myNeuralNet(nn.Module): # inheritance nn.module by creators of pytorch we are using it \n",
    "    def __init__(self):\n",
    "        super().__init__()\n",
    "        # Define all your Layers Here\n",
    "        mnist dataset where we have to predicts digits 0 - 9 \n",
    "        self.lin1 = nn.Linear(784, 30)\n",
    "        self.lin2 = nn.Linear(30, 10)\n",
    "\n",
    "    def forward(self, x):\n",
    "        # Connect the layer Outputs here to define the forward pass\n",
    "        x = self.lin1(x)\n",
    "        x = self.lin2(x)\n",
    "        return x\n"
   ]
  },
  {
   "cell_type": "markdown",
   "metadata": {},
   "source": [
    "#### What is Polymorphism?"
   ]
  },
  {
   "cell_type": "code",
   "execution_count": 145,
   "metadata": {},
   "outputs": [],
   "source": [
    "# poly - many\n",
    "# morph - forms\n",
    "# to use anything in multiple forms\n",
    "# Heirarchical inheritance\n",
    "\n",
    "import math\n",
    "\n",
    "class Shape:\n",
    "    def __init__(self, name):\n",
    "        self.name = name\n",
    "        print(\"init of Shape class has been called.\")\n",
    "    def area(self):\n",
    "        pass\n",
    "    def getName(self):\n",
    "        return self.name\n",
    "    \n",
    "class Rectangle(Shape):\n",
    "    def __init__(self, name, length, breadth):\n",
    "        super().__init__(name) # this will call __init__ of parent class which is Shape\n",
    "        self.length = length\n",
    "        self.breadth = breadth\n",
    "        print(\"init of Rectangle class has been called.\")\n",
    "\n",
    "    def area(self):\n",
    "        return self.length*self.breadth\n",
    "\n",
    "\n",
    "# Multilevel inheritance for Square\n",
    "class Square(Rectangle):\n",
    "    def __init__(self, name, side):  #this function is mandatory to define.\n",
    "        super().__init__(name,side,side)\n",
    "        print(\"init of Square class has been called.\")\n",
    "        \n",
    "\n",
    "class Circle(Shape):\n",
    "    def __init__(self, name, radius):\n",
    "        super().__init__(name)\n",
    "        self.radius = radius\n",
    "\n",
    "    def area(self):\n",
    "        return (math.pi)*self.radius**2"
   ]
  },
  {
   "cell_type": "code",
   "execution_count": 185,
   "metadata": {},
   "outputs": [
    {
     "name": "stdout",
     "output_type": "stream",
     "text": [
      "There are different types of birds\n",
      "Most of the birds can fly but some cannot\n",
      "There are different types of birds\n",
      "Most of the birds can fly but some cannot\n",
      "There are different types of birds\n",
      "Penguins do not fly\n"
     ]
    }
   ],
   "source": [
    "class Bird:\n",
    "     def intro(self):\n",
    "       print(\"There are different types of birds\")\n",
    " \n",
    "     def flight(self):\n",
    "       print(\"Most of the birds can fly but some cannot\")\n",
    "\n",
    "class parrot(Bird):\n",
    "     def flight(self):\n",
    "        pass\n",
    "\n",
    "class penguin(Bird):\n",
    "     def flight(self):\n",
    "       print(\"Penguins do not fly\")\n",
    " \n",
    "obj_bird = Bird()\n",
    "obj_parr = parrot()\n",
    "obj_peng = penguin()\n",
    " \n",
    "obj_bird.intro()\n",
    "obj_bird.flight()\n",
    " \n",
    "obj_parr.intro()\n",
    "obj_parr.flight()\n",
    " \n",
    "obj_peng.intro()\n",
    "obj_peng.flight()"
   ]
  },
  {
   "cell_type": "code",
   "execution_count": null,
   "metadata": {},
   "outputs": [],
   "source": [
    "class India():\n",
    "     def capital(self):\n",
    "       print(\"New Delhi\")\n",
    " \n",
    "     def language(self):\n",
    "       print(\"Hindi and English\")\n",
    " \n",
    "class USA():\n",
    "     def capital(self):\n",
    "       print(\"Washington, D.C.\")\n",
    " \n",
    "     def language(self):\n",
    "       print(\"English\")\n",
    " \n",
    "obj_ind = India()\n",
    "obj_usa = USA()\n",
    "for country in (obj_ind, obj_usa):\n",
    "country.capital()\n",
    "country.language()"
   ]
  },
  {
   "cell_type": "code",
   "execution_count": null,
   "metadata": {},
   "outputs": [],
   "source": [
    "math.pi"
   ]
  },
  {
   "cell_type": "code",
   "execution_count": 151,
   "metadata": {},
   "outputs": [
    {
     "name": "stdout",
     "output_type": "stream",
     "text": [
      "init of Shape class has been called.\n",
      "init of Rectangle class has been called.\n",
      "init of Square class has been called.\n"
     ]
    }
   ],
   "source": [
    "sqr = Square(\"Square\",10)\n",
    "# shpe = Shape(\"name\")"
   ]
  },
  {
   "cell_type": "code",
   "execution_count": 147,
   "metadata": {},
   "outputs": [
    {
     "data": {
      "text/plain": [
       "'Square'"
      ]
     },
     "execution_count": 147,
     "metadata": {},
     "output_type": "execute_result"
    }
   ],
   "source": [
    "sqr.getName()"
   ]
  },
  {
   "cell_type": "code",
   "execution_count": 152,
   "metadata": {},
   "outputs": [
    {
     "data": {
      "text/plain": [
       "100"
      ]
     },
     "execution_count": 152,
     "metadata": {},
     "output_type": "execute_result"
    }
   ],
   "source": [
    "sqr.area()"
   ]
  },
  {
   "cell_type": "code",
   "execution_count": 149,
   "metadata": {},
   "outputs": [
    {
     "name": "stdout",
     "output_type": "stream",
     "text": [
      "init of Shape class has been called.\n",
      "init of Rectangle class has been called.\n"
     ]
    }
   ],
   "source": [
    "rec = Rectangle(\"recantagle\",10,20)"
   ]
  },
  {
   "cell_type": "code",
   "execution_count": 150,
   "metadata": {},
   "outputs": [
    {
     "data": {
      "text/plain": [
       "200"
      ]
     },
     "execution_count": 150,
     "metadata": {},
     "output_type": "execute_result"
    }
   ],
   "source": [
    "rec.area()"
   ]
  },
  {
   "cell_type": "code",
   "execution_count": null,
   "metadata": {},
   "outputs": [],
   "source": [
    "isinstance(sqr, Square)\n",
    "\n"
   ]
  },
  {
   "cell_type": "code",
   "execution_count": null,
   "metadata": {},
   "outputs": [],
   "source": [
    "cir = Circle(\"Circle\",2.4)"
   ]
  },
  {
   "cell_type": "code",
   "execution_count": null,
   "metadata": {},
   "outputs": [],
   "source": [
    "cir.area()\n"
   ]
  },
  {
   "cell_type": "code",
   "execution_count": null,
   "metadata": {},
   "outputs": [],
   "source": [
    "# s1 = Shape('temp')\n",
    "s1.area()"
   ]
  },
  {
   "cell_type": "markdown",
   "metadata": {},
   "source": [
    "#### Single and Double Underscores?"
   ]
  },
  {
   "cell_type": "markdown",
   "metadata": {},
   "source": [
    "Sometimes we want to make our attributes and functions in classes private and not allow the user to see them. This is a part of Encapsulation where we want to “restrict the direct access to some of an object’s components”. "
   ]
  },
  {
   "cell_type": "code",
   "execution_count": 153,
   "metadata": {},
   "outputs": [],
   "source": [
    "class iPhone:\n",
    "    def __init__(self, memory, id1):   # initi - constructors - magic method\n",
    "        self._memory = memory # private varible not exposed with object\n",
    "        self.id1 =id1\n",
    "    def _privatefunc(self):\n",
    "        self.id1 = 56\n",
    "#         pass\n",
    "    def getmemory(self):\n",
    "        return self._memory\n",
    "    def setmemory(self,memory):\n",
    "        self._memory = memory     \n",
    "        \n",
    "# variable or funct = start from _ it means it is not visible to user   rest all is possible"
   ]
  },
  {
   "cell_type": "code",
   "execution_count": 168,
   "metadata": {},
   "outputs": [],
   "source": [
    "ip."
   ]
  },
  {
   "cell_type": "code",
   "execution_count": 157,
   "metadata": {},
   "outputs": [],
   "source": [
    "ip = iPhone(34,100)"
   ]
  },
  {
   "cell_type": "code",
   "execution_count": 169,
   "metadata": {},
   "outputs": [
    {
     "data": {
      "text/plain": [
       "56"
      ]
     },
     "execution_count": 169,
     "metadata": {},
     "output_type": "execute_result"
    }
   ],
   "source": [
    "# ip.id1 = 200\n",
    "ip.id1"
   ]
  },
  {
   "cell_type": "code",
   "execution_count": 165,
   "metadata": {},
   "outputs": [
    {
     "data": {
      "text/plain": [
       "560"
      ]
     },
     "execution_count": 165,
     "metadata": {},
     "output_type": "execute_result"
    }
   ],
   "source": [
    "ip.getmemory()"
   ]
  },
  {
   "cell_type": "code",
   "execution_count": 164,
   "metadata": {},
   "outputs": [],
   "source": [
    "ip.setmemory(560)"
   ]
  },
  {
   "cell_type": "code",
   "execution_count": 24,
   "metadata": {},
   "outputs": [],
   "source": [
    "# ip.setmemory(45)\n",
    "\n",
    "# ip._memory   # drawback\n",
    "# ip._privatefunc()\n",
    "ip."
   ]
  },
  {
   "cell_type": "code",
   "execution_count": 25,
   "metadata": {},
   "outputs": [
    {
     "data": {
      "text/plain": [
       "789"
      ]
     },
     "execution_count": 25,
     "metadata": {},
     "output_type": "execute_result"
    }
   ],
   "source": [
    "# ip.id1\n",
    "ip._memory"
   ]
  },
  {
   "cell_type": "code",
   "execution_count": 26,
   "metadata": {},
   "outputs": [],
   "source": [
    "ip.setmemory(56990)"
   ]
  },
  {
   "cell_type": "code",
   "execution_count": 27,
   "metadata": {},
   "outputs": [
    {
     "data": {
      "text/plain": [
       "56990"
      ]
     },
     "execution_count": 27,
     "metadata": {},
     "output_type": "execute_result"
    }
   ],
   "source": [
    "ip.getmemory()"
   ]
  },
  {
   "cell_type": "markdown",
   "metadata": {},
   "source": [
    "But you would still be able to change the variable value using(Though not recommended),"
   ]
  },
  {
   "cell_type": "code",
   "execution_count": null,
   "metadata": {},
   "outputs": [],
   "source": [
    "print(ip._memory)"
   ]
  },
  {
   "cell_type": "code",
   "execution_count": null,
   "metadata": {},
   "outputs": [],
   "source": [
    "ip."
   ]
  },
  {
   "cell_type": "code",
   "execution_count": 28,
   "metadata": {},
   "outputs": [],
   "source": [
    "class iPhone:\n",
    "    def __init__(self, memory):\n",
    "         self.memory = memory\n",
    "    def _privatefunc(self):\n",
    "        pass\n",
    "    def getmemory(self):\n",
    "        return self.memory\n",
    "    def setmemory(self,memory):\n",
    "        self.memory = memory"
   ]
  },
  {
   "cell_type": "code",
   "execution_count": 29,
   "metadata": {},
   "outputs": [],
   "source": [
    "ip = iPhone(98)"
   ]
  },
  {
   "cell_type": "code",
   "execution_count": null,
   "metadata": {},
   "outputs": [],
   "source": [
    "ip."
   ]
  },
  {
   "cell_type": "code",
   "execution_count": null,
   "metadata": {},
   "outputs": [],
   "source": [
    "ip._privatefunc()"
   ]
  },
  {
   "cell_type": "code",
   "execution_count": 174,
   "metadata": {},
   "outputs": [],
   "source": [
    "class iPhone:\n",
    "    def __init__(self, memory):\n",
    "         self.__memory = memory\n",
    "            \n",
    "    def __privatefunc(self):\n",
    "        pass\n",
    "    def getmemory(self):\n",
    "        return self.__memory\n",
    "    def setmemory(self,memory):\n",
    "        self.__memory = memory # given the access in the class This is a private varibale\n",
    "        \n"
   ]
  },
  {
   "cell_type": "code",
   "execution_count": 175,
   "metadata": {},
   "outputs": [],
   "source": [
    "ip = iPhone(45)"
   ]
  },
  {
   "cell_type": "code",
   "execution_count": 181,
   "metadata": {},
   "outputs": [
    {
     "data": {
      "text/plain": [
       "67"
      ]
     },
     "execution_count": 181,
     "metadata": {},
     "output_type": "execute_result"
    }
   ],
   "source": [
    "# ip.setmemory(67)\n",
    "ip.getmemory()"
   ]
  },
  {
   "cell_type": "code",
   "execution_count": 178,
   "metadata": {},
   "outputs": [],
   "source": [
    "ip.__memory = 1 #A temp variable got created "
   ]
  },
  {
   "cell_type": "code",
   "execution_count": 35,
   "metadata": {},
   "outputs": [
    {
     "data": {
      "text/plain": [
       "1"
      ]
     },
     "execution_count": 35,
     "metadata": {},
     "output_type": "execute_result"
    }
   ],
   "source": [
    "ip.__memory"
   ]
  },
  {
   "cell_type": "code",
   "execution_count": 37,
   "metadata": {},
   "outputs": [],
   "source": [
    "ip.setmemory(90)"
   ]
  },
  {
   "cell_type": "code",
   "execution_count": 38,
   "metadata": {},
   "outputs": [
    {
     "data": {
      "text/plain": [
       "90"
      ]
     },
     "execution_count": 38,
     "metadata": {},
     "output_type": "execute_result"
    }
   ],
   "source": [
    "ip.getmemory()"
   ]
  },
  {
   "cell_type": "code",
   "execution_count": null,
   "metadata": {},
   "outputs": [],
   "source": [
    "ip.__privatefunc()"
   ]
  },
  {
   "cell_type": "code",
   "execution_count": null,
   "metadata": {},
   "outputs": [],
   "source": []
  }
 ],
 "metadata": {
  "kernelspec": {
   "display_name": "Python 3",
   "language": "python",
   "name": "python3"
  },
  "language_info": {
   "codemirror_mode": {
    "name": "ipython",
    "version": 3
   },
   "file_extension": ".py",
   "mimetype": "text/x-python",
   "name": "python",
   "nbconvert_exporter": "python",
   "pygments_lexer": "ipython3",
   "version": "3.8.5"
  }
 },
 "nbformat": 4,
 "nbformat_minor": 4
}
