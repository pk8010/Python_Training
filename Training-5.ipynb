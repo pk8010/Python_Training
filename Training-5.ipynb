{
 "cells": [
  {
   "cell_type": "code",
   "execution_count": 3,
   "metadata": {},
   "outputs": [
    {
     "data": {
      "text/plain": [
       "48"
      ]
     },
     "execution_count": 3,
     "metadata": {},
     "output_type": "execute_result"
    }
   ],
   "source": [
    "list1 = [2,3,4,5,6,6,9]  # ->2*3*4*5...=\n",
    "# list2 = [122,33,44,55,46,6,9]\n",
    "\n",
    "# create a function which will take input as a list and product the output as multiplation of all elements.\n",
    "\n",
    "def product_of_list_elements(lst, lst):\n",
    "    result = 1\n",
    "    for num in lst:\n",
    "        result *= num\n",
    "    return result\n",
    "\n",
    "\n",
    "product_of_list_elements([2,3,4,2])"
   ]
  },
  {
   "cell_type": "code",
   "execution_count": 10,
   "metadata": {},
   "outputs": [
    {
     "ename": "SyntaxError",
     "evalue": "name 'global_var' is assigned to before global declaration (<ipython-input-10-22068655a52b>, line 9)",
     "output_type": "error",
     "traceback": [
      "\u001b[1;36m  File \u001b[1;32m\"<ipython-input-10-22068655a52b>\"\u001b[1;36m, line \u001b[1;32m9\u001b[0m\n\u001b[1;33m    global global_var\u001b[0m\n\u001b[1;37m    ^\u001b[0m\n\u001b[1;31mSyntaxError\u001b[0m\u001b[1;31m:\u001b[0m name 'global_var' is assigned to before global declaration\n"
     ]
    }
   ],
   "source": [
    "# Scope and Life Time of Variables\n",
    "global_var = \"This is global variable\"\n",
    "print(global_var)\n",
    "\n",
    "def test_life_time():\n",
    "    \"\"\"This function test the life time of a variables\"\"\"\n",
    "    local_var = \"This is local variable\"\n",
    "#     global global_var\n",
    "    global_var = \"new value to global variable\"\n",
    "    print(local_var)       #print local variable local_var inside function\n",
    "    print(global_var)      #print global variable global_var inside function\n",
    "  \n",
    "\n",
    "#calling function\n",
    "test_life_time()\n",
    "\n",
    "#print global variable global_var\n",
    "print(global_var)\n",
    "\n",
    "#print local variable local_var\n",
    "# print(local_var)"
   ]
  },
  {
   "cell_type": "code",
   "execution_count": null,
   "metadata": {},
   "outputs": [],
   "source": [
    "def print_name(*name):\n",
    "#     print(type(name))\n",
    "    withsur = []\n",
    "    for val in name:\n",
    "#         print(val+\" \"+\"surname\")\n",
    "        withsur.append(val+\" \"+\"surname\")\n",
    "    return withsur\n",
    "    \n",
    "#     print(\"name is \", name)\n",
    "\n",
    "withsurname = print_name(\"king\",'king','lio','j')\n",
    "\n"
   ]
  },
  {
   "cell_type": "code",
   "execution_count": 24,
   "metadata": {},
   "outputs": [
    {
     "name": "stdout",
     "output_type": "stream",
     "text": [
      "<class 'tuple'>\n",
      "Emil\n",
      "Tobias\n",
      "Linus\n",
      "Linus\n",
      "Linus\n"
     ]
    },
    {
     "data": {
      "text/plain": [
       "64800"
      ]
     },
     "execution_count": 24,
     "metadata": {},
     "output_type": "execute_result"
    }
   ],
   "source": [
    "def my_function(*kids):\n",
    "#   print(\"The youngest child is \" + kids[2])\n",
    "    print(type(kids))\n",
    "    for value in kids:\n",
    "        print(value)\n",
    "\n",
    "my_function(\"Emil\", \"Tobias\", \"Linus\",  \"Linus\",  \"Linus\")\n",
    "\n",
    "# my_function(2,3,4,5,6,6)-> multiplication of all\n",
    "# my_function(2,3,6)-> multiplication of all\n",
    "# my_function(2)-> multiplication of all\n",
    "\n",
    "\n",
    "def multiply(*num):\n",
    "    l=1\n",
    "    for value in num:\n",
    "        l*=value\n",
    "    return l\n",
    "    \n",
    "multiply(2,3,4,5,6,90)\n"
   ]
  },
  {
   "cell_type": "code",
   "execution_count": 17,
   "metadata": {},
   "outputs": [
    {
     "name": "stdout",
     "output_type": "stream",
     "text": [
      "the name is Emil arthur\n"
     ]
    }
   ],
   "source": [
    "def my_function(kid, kid2 = \"John\"): # default argument\n",
    "#   print(\"The youngest child is \" + kids[2])\n",
    "    print(\"the name is\", kid, kid2)\n",
    "\n",
    "# my_function(\"Emil\", \"Tobias\", \"Linus\")\n",
    "my_function(\"Emil\",\"arthur\")"
   ]
  },
  {
   "cell_type": "markdown",
   "metadata": {},
   "source": [
    "Keyword Arguments\n",
    "You can also send arguments with the key = value syntax.\n",
    "\n",
    "This way the order of the arguments does not matter."
   ]
  },
  {
   "cell_type": "code",
   "execution_count": 31,
   "metadata": {},
   "outputs": [
    {
     "ename": "TypeError",
     "evalue": "my_function() got an unexpected keyword argument 'phone'",
     "output_type": "error",
     "traceback": [
      "\u001b[1;31m---------------------------------------------------------------------------\u001b[0m",
      "\u001b[1;31mTypeError\u001b[0m                                 Traceback (most recent call last)",
      "\u001b[1;32m<ipython-input-31-ccf665a6c1d0>\u001b[0m in \u001b[0;36m<module>\u001b[1;34m\u001b[0m\n\u001b[0;32m     15\u001b[0m \u001b[1;31m# my_function(phone = \"Emil\", child2 = \"Tobias\", child3 = \"Linus\")\u001b[0m\u001b[1;33m\u001b[0m\u001b[1;33m\u001b[0m\u001b[1;33m\u001b[0m\u001b[0m\n\u001b[0;32m     16\u001b[0m \u001b[1;33m\u001b[0m\u001b[0m\n\u001b[1;32m---> 17\u001b[1;33m \u001b[0mmy_function\u001b[0m\u001b[1;33m(\u001b[0m\u001b[0mphone\u001b[0m \u001b[1;33m=\u001b[0m \u001b[1;34m\"908090\"\u001b[0m\u001b[1;33m,\u001b[0m \u001b[0mname\u001b[0m \u001b[1;33m=\u001b[0m \u001b[1;34m\"jhon\"\u001b[0m\u001b[1;33m,\u001b[0m \u001b[0maddress\u001b[0m \u001b[1;33m=\u001b[0m \u001b[1;34m\"delhi\"\u001b[0m\u001b[1;33m,\u001b[0m \u001b[0mpincode\u001b[0m \u001b[1;33m=\u001b[0m\u001b[1;34m\" 11000\"\u001b[0m\u001b[1;33m,\u001b[0m \u001b[0mstate\u001b[0m \u001b[1;33m=\u001b[0m\u001b[1;34m\"abc\"\u001b[0m\u001b[1;33m)\u001b[0m\u001b[1;33m\u001b[0m\u001b[1;33m\u001b[0m\u001b[0m\n\u001b[0m",
      "\u001b[1;31mTypeError\u001b[0m: my_function() got an unexpected keyword argument 'phone'"
     ]
    }
   ],
   "source": [
    "def my_function(child3, child2, child1):\n",
    "  print(\"The youngest child is \" + child3)\n",
    "\n",
    "# my_function(child1 = \"Emil\", child2 = \"Tobias\", child3 = \"Linus\")\n",
    "\n",
    "# my_function(\"Emil\",\"Tobias\",\"Linus\")\n",
    "\n",
    "\n",
    "\n",
    "def my_function(*empdata):\n",
    "    print(\"The name  is \" + empdata['name'])\n",
    "    print(\"The state  is \" + empdata['state'])\n",
    "    print(\"The address  is \" + empdata['address'])\n",
    "\n",
    "# my_function(phone = \"Emil\", child2 = \"Tobias\", child3 = \"Linus\")\n",
    "\n",
    "my_function(phone = \"908090\", name = \"jhon\", address = \"delhi\", pincode =\" 11000\", state =\"abc\")\n",
    "my_function(\"908090\",\"jhon\",\"delhi\",\" 11000\",\"abc\")"
   ]
  },
  {
   "cell_type": "code",
   "execution_count": null,
   "metadata": {},
   "outputs": [],
   "source": [
    "def my_function(**kid):\n",
    "  print(\"His last name is \" + kid[\"lname\"])\n",
    "\n",
    "my_function(fname = \"Tobias\", lname = \"Refsnes\")"
   ]
  },
  {
   "cell_type": "code",
   "execution_count": null,
   "metadata": {},
   "outputs": [],
   "source": [
    "# Arbitary Arguments (*kwds)\n",
    "# Arbitrary Keyword Arguments, **kwargs\n",
    "\n",
    "\n",
    "\n",
    "\n",
    "# def function_name(name, surname):\n",
    "#     print(\"name of person is \",name, surname)\n",
    "\n",
    "# def function_name(*kw):\n",
    "#     print(kw)\n",
    "#     print(kw[2])\n",
    "#     print(\"name of person is \",name, surname)\n",
    "\n",
    "    \n",
    "    \n",
    "def function_name(**kw):\n",
    "    print(kw)\n",
    "    print(kw['name'])\n",
    "#     print(kw[2])    \n",
    "    \n",
    "function_name(name = \"praveen\", surname = \"kumar\")\n",
    "\n",
    "# list1 = [[1,2],[2,3],(4,5)]\n",
    "\n",
    "# for val in list1:\n",
    "#     print(val)\n",
    "#     print(isinstance(val, list))"
   ]
  },
  {
   "cell_type": "code",
   "execution_count": 32,
   "metadata": {},
   "outputs": [
    {
     "name": "stdout",
     "output_type": "stream",
     "text": [
      "I am from Sweden\n",
      "I am from India\n",
      "I am from Norway\n",
      "I am from Brazil\n"
     ]
    }
   ],
   "source": [
    "def my_function(country = \"Norway\"):\n",
    "  print(\"I am from \" + country)\n",
    "\n",
    "my_function(\"Sweden\")\n",
    "my_function(\"India\")\n",
    "my_function()\n",
    "my_function(\"Brazil\")"
   ]
  },
  {
   "cell_type": "code",
   "execution_count": 33,
   "metadata": {},
   "outputs": [
    {
     "name": "stdout",
     "output_type": "stream",
     "text": [
      "2\n",
      "5\n",
      "10\n",
      "10\n",
      "90\n"
     ]
    }
   ],
   "source": [
    "# Scope and Life Time of Variables\n",
    "a = 2\n",
    "print(a)\n",
    "\n",
    "#defiing the function\n",
    "def testing():\n",
    "    p = 5\n",
    "    global a\n",
    "    a = 10\n",
    "    print(p)       #print local variable local_var inside function\n",
    "    print(a)      #print global variable global_var inside function\n",
    "  \n",
    "\n",
    "p = 90\n",
    "#calling function\n",
    "testing()\n",
    "\n",
    "#print global variable global_var\n",
    "print(a)\n",
    "\n",
    "#print local variable local_var\n",
    "print(p)"
   ]
  },
  {
   "cell_type": "code",
   "execution_count": 34,
   "metadata": {},
   "outputs": [
    {
     "name": "stdout",
     "output_type": "stream",
     "text": [
      "100\n",
      "True\n",
      "False\n",
      "False\n",
      "True\n",
      "True\n"
     ]
    }
   ],
   "source": [
    "# Some Built in Functions\n",
    "# Built-in Functions\n",
    "\n",
    "# find the absolute value\n",
    "num = -100\n",
    "print(abs(num))\n",
    "# True: if all elements in an iterable are true\n",
    "# False: if any element in an iterable is false\n",
    "lst = [1, 2, 3, 4]\n",
    "print(all(lst)) \n",
    "\n",
    "lst = [0, 2, 3, 4]\n",
    "print(all(lst)) \n",
    "\n",
    "lst = [False, 2, 3, 4]\n",
    "print(all(lst)) \n",
    "\n",
    "# Three value\n",
    "# 0, Flase, None -False\n",
    "\n",
    "lst = [] #empty values will be true\n",
    "print(all(lst))   #all like and logical oeprator\n",
    "\n",
    "lst = [0,0,0,1]\n",
    "print(any(lst)) # opposite of all  # any is like or"
   ]
  },
  {
   "cell_type": "code",
   "execution_count": 38,
   "metadata": {},
   "outputs": [
    {
     "name": "stdout",
     "output_type": "stream",
     "text": [
      "50 10\n",
      "51 2\n",
      "52 3\n",
      "53 4\n",
      "54 5\n",
      "55 6\n",
      "56 6\n"
     ]
    }
   ],
   "source": [
    "# Enumerate\n",
    "\n",
    "\n",
    "numbers = \"this is good\"\n",
    "# for i, num in (numbers):\n",
    "#     print(i, num)\n",
    "\n",
    "numbers = [10,2,3,4,5,6,6]\n",
    "    \n",
    "    \n",
    "for i, num in enumerate(numbers,50):\n",
    "    print(i, num)\n",
    "    \n",
    "# numbers = [10, 20, 30, 40]\n",
    "# for num in (numbers):\n",
    "#     print(num)"
   ]
  },
  {
   "cell_type": "raw",
   "metadata": {},
   "source": [
    "The Filter Method"
   ]
  },
  {
   "cell_type": "code",
   "execution_count": 39,
   "metadata": {},
   "outputs": [
    {
     "name": "stdout",
     "output_type": "stream",
     "text": [
      "[1, 2, 3, 4, 5, 6, 7, 8, 9, 10, 11, 12, 13, 14, 15, 16, 17, 18, 19, 20, 21, 22, 23, 24, 25, 26, 27, 28, 29, 30, 31, 32, 33, 34, 35, 36, 37, 38, 39, 40, 41, 42, 43, 44, 45, 46, 47, 48, 49, 50, 51, 52, 53, 54, 55, 56, 57, 58, 59, 60, 61, 62, 63, 64, 65, 66, 67, 68, 69, 70, 71, 72, 73, 74, 75, 76, 77, 78, 79, 80, 81, 82, 83, 84, 85, 86, 87, 88, 89, 90, 91, 92, 93, 94, 95, 96, 97, 98, 99]\n"
     ]
    }
   ],
   "source": [
    "# The filter() method constructs an iterator from elements of an iterable for which a function returns true.\n",
    "\n",
    "number_list = list(range(-100, 100))   #create a list with numbers from -10 to 10\n",
    "\n",
    "# def find_positive_number(num):\n",
    "#     sum1 = 0\n",
    "#     for val in str(num):\n",
    "#         sum1 += int(val)\n",
    "#     return (sum1==5)\n",
    "\n",
    "\n",
    "def find_positive_number(num):\n",
    "    return num>0 # what we have to write only to filter the the even numbers which is not divisible by 5\n",
    "\n",
    "\n",
    "# print(number_list)\n",
    "positive_num_lst = list(filter(find_positive_number, number_list))\n",
    "print(positive_num_lst)\n",
    "\n",
    "# for val in number_list:\n",
    "#     print(val,find_positive_number(val))"
   ]
  },
  {
   "cell_type": "code",
   "execution_count": 41,
   "metadata": {},
   "outputs": [
    {
     "name": "stdout",
     "output_type": "stream",
     "text": [
      "[2, 4, 6, 8, 12, 14, 16, 18, 22, 24, 26, 28, 32, 34, 36, 38, 42, 44, 46, 48, 52, 54, 56, 58, 62, 64, 66, 68, 72, 74, 76, 78, 82, 84, 86, 88, 92, 94, 96, 98] "
     ]
    }
   ],
   "source": [
    "values = list(range(1,100))\n",
    "def even_numbers(num):\n",
    "    return (num%2==0 and num%5!=0)        \n",
    "    \n",
    "cal = list(filter(even_numbers,values))\n",
    "print(cal, end=' ')"
   ]
  },
  {
   "cell_type": "code",
   "execution_count": null,
   "metadata": {},
   "outputs": [],
   "source": [
    "number_list = tuple(range(1, 100)) \n",
    "\n",
    "\n",
    "def checkeven(num):\n",
    "    return (num%2==0 and num%5==0)\n",
    "stored_value = tuple(filter(checkeven, number_list))\n"
   ]
  },
  {
   "cell_type": "markdown",
   "metadata": {},
   "source": [
    "Map Function:"
   ]
  },
  {
   "cell_type": "code",
   "execution_count": 44,
   "metadata": {},
   "outputs": [
    {
     "name": "stdout",
     "output_type": "stream",
     "text": [
      "['ta', 'ha', 'ia', 'sa', ' a', 'ia', 'sa', ' a', 'aa', ' a', 'ba', 'oa', 'oa', 'ka']\n"
     ]
    }
   ],
   "source": [
    "#Map F\n",
    "\n",
    "# numbers = [1, 2, 3, 4] # iterable\n",
    "\n",
    "\n",
    "\n",
    "string1 = \"this is a book\"\n",
    "\n",
    "def cube(num):\n",
    "#     return num ** 3\n",
    "    return num+'a'\n",
    "\n",
    "\n",
    "#using map() function\n",
    "cubed = list(map(cube, numbers))\n",
    "print(cubed)\n",
    "\n",
    "# number = 17  # 2,16\n",
    "# indicator = 0\n",
    "# for val in range(2, number):\n",
    "#     print(number,val, number%val)\n",
    "#     if number % val == 0:\n",
    "#         indicator = 1\n",
    "#         break\n",
    "# if indicator == 0:\n",
    "#     print(number, \"is a prime number\")\n",
    "# else:\n",
    "#     print(number, \"is not a prime number\")"
   ]
  },
  {
   "cell_type": "markdown",
   "metadata": {},
   "source": [
    "Reduce Function"
   ]
  },
  {
   "cell_type": "code",
   "execution_count": 49,
   "metadata": {},
   "outputs": [
    {
     "name": "stdout",
     "output_type": "stream",
     "text": [
      "18\n"
     ]
    }
   ],
   "source": [
    "#reduce()\n",
    "from functools import reduce # in Python 3.\n",
    "\n",
    "numbers = [1, 2, 3, 4]\n",
    "\n",
    "def multiply(x,y):\n",
    "    return x+y\n",
    "product = reduce(multiply, numbers, 8)\n",
    "\n",
    "print(product)\n",
    "\n",
    "\n"
   ]
  },
  {
   "cell_type": "markdown",
   "metadata": {},
   "source": [
    "Lambda Function\n",
    " \n",
    "Anonymous / Lambda Function\n",
    "\n",
    "In Python, anonymous function is a function that is defined without a name.\n",
    "\n",
    "While normal functions are defined using the def keyword, in Python anonymous functions are defined using the lambda keyword.\n",
    "\n",
    "Lambda functions are used extensively along with built-in functions like filter(), map()"
   ]
  },
  {
   "cell_type": "code",
   "execution_count": 55,
   "metadata": {},
   "outputs": [
    {
     "data": {
      "text/plain": [
       "60"
      ]
     },
     "execution_count": 55,
     "metadata": {},
     "output_type": "execute_result"
    }
   ],
   "source": [
    "double = lambda x,y,z: x*y*z if y%2==0 else 0\n",
    "double(3,4,5)\n",
    "\n",
    "\n",
    "\n",
    "# def function_name(x,y,z):\n",
    "#     if y%2==0:\n",
    "#         return x*y*z\n",
    "#     else:\n",
    "#         return 0\n",
    "\n",
    "# function_name(3,5,5)    \n",
    "\n",
    "# \n",
    "# lambda x: True if x % 2 == 0 else False\n"
   ]
  },
  {
   "cell_type": "code",
   "execution_count": null,
   "metadata": {},
   "outputs": [],
   "source": [
    "double(1,3,3)"
   ]
  },
  {
   "cell_type": "code",
   "execution_count": 56,
   "metadata": {},
   "outputs": [],
   "source": [
    "result = lambda x : str(x)+\" is even\" if x%2==0 else str(x)+\" is odd\""
   ]
  },
  {
   "cell_type": "code",
   "execution_count": 58,
   "metadata": {},
   "outputs": [
    {
     "data": {
      "text/plain": [
       "'3 is odd'"
      ]
     },
     "execution_count": 58,
     "metadata": {},
     "output_type": "execute_result"
    }
   ],
   "source": [
    "result(3)"
   ]
  },
  {
   "cell_type": "code",
   "execution_count": null,
   "metadata": {},
   "outputs": [],
   "source": [
    "#create a map to transform all number to power of 4 in a list using lambda function."
   ]
  },
  {
   "cell_type": "code",
   "execution_count": 59,
   "metadata": {},
   "outputs": [
    {
     "name": "stdout",
     "output_type": "stream",
     "text": [
      "[256, 625, 1296, 2401, 4096]\n"
     ]
    }
   ],
   "source": [
    "num = map(lambda x: x**4, [4,5,6,7,8])\n",
    "\n",
    "print(list(num))"
   ]
  },
  {
   "cell_type": "code",
   "execution_count": 85,
   "metadata": {},
   "outputs": [
    {
     "data": {
      "text/plain": [
       "[2,\n",
       " 3,\n",
       " 5,\n",
       " 7,\n",
       " 11,\n",
       " 13,\n",
       " 17,\n",
       " 19,\n",
       " 23,\n",
       " 29,\n",
       " 31,\n",
       " 37,\n",
       " 41,\n",
       " 43,\n",
       " 47,\n",
       " 53,\n",
       " 59,\n",
       " 61,\n",
       " 67,\n",
       " 71,\n",
       " 73,\n",
       " 79,\n",
       " 83,\n",
       " 89,\n",
       " 97,\n",
       " 101,\n",
       " 103,\n",
       " 107,\n",
       " 109,\n",
       " 113,\n",
       " 127,\n",
       " 131,\n",
       " 137,\n",
       " 139,\n",
       " 149,\n",
       " 151,\n",
       " 157,\n",
       " 163,\n",
       " 167,\n",
       " 173,\n",
       " 179,\n",
       " 181,\n",
       " 191,\n",
       " 193,\n",
       " 197,\n",
       " 199]"
      ]
     },
     "execution_count": 85,
     "metadata": {},
     "output_type": "execute_result"
    }
   ],
   "source": [
    "#create a filter using normal function to filter number which is prime number.\n",
    "\n",
    "list1 = list(range(2,200))\n",
    "# print(list1)\n",
    "\n",
    "num = 41\n",
    "\n",
    "# for numbers in range(2,100):\n",
    "#     num = numbers\n",
    "#     flag=0\n",
    "#     for val in range(2, num):\n",
    "#         if num%val==0:\n",
    "#             flag=1\n",
    "#     if flag == 0:\n",
    "#         print(num, \"is prime number\")\n",
    "#     else:\n",
    "#         print(num, \"is not prime number\")\n",
    "                \n",
    "def check_prime(num):\n",
    "    flag=0\n",
    "    for val in range(2, num):\n",
    "        if num%val==0:\n",
    "            return False\n",
    "    return True\n",
    "\n",
    "filtered_prime_numbers = list(filter(check_prime, list1))\n",
    "filtered_prime_numbers"
   ]
  },
  {
   "cell_type": "markdown",
   "metadata": {},
   "source": [
    "*Module*\n",
    "\n",
    "Modules refer to a file containing Python statements and definitions.\n",
    "\n",
    "A file containing Python code, for e.g.: abc.py, is called a module and its module name would be \"abc\".\n",
    "\n",
    "We use modules to break down large programs into small manageable and organized files. Furthermore, modules provide reusability of code.\n",
    "\n",
    "We can define our most used functions in a module and import it, instead of copying their definitions into different programs.\n",
    "\n",
    "https://docs.python.org/3/py-modindex.html"
   ]
  },
  {
   "cell_type": "code",
   "execution_count": null,
   "metadata": {},
   "outputs": [],
   "source": [
    "# How to import a module?\n",
    "import Game.calculation  # need to write calculation.py file and some functions there.\n",
    "from Game.calculation import exp\n",
    "print(Game.calculation.add(11, 20))\n",
    "# print(calculation.exp(11, 2))\n",
    "print(Game.calculation.multiply(11, 20))"
   ]
  },
  {
   "cell_type": "code",
   "execution_count": null,
   "metadata": {},
   "outputs": [],
   "source": [
    "from Game.calculation import multiply\n",
    "from Game.calculation import add"
   ]
  },
  {
   "cell_type": "code",
   "execution_count": null,
   "metadata": {},
   "outputs": [],
   "source": [
    "multiply(5,6)"
   ]
  },
  {
   "cell_type": "code",
   "execution_count": null,
   "metadata": {},
   "outputs": [],
   "source": [
    "add(1,10)"
   ]
  },
  {
   "cell_type": "code",
   "execution_count": null,
   "metadata": {},
   "outputs": [],
   "source": [
    "import Game.calculation\n",
    "\n",
    "print(Game.calculation.add(11, 20))"
   ]
  },
  {
   "cell_type": "code",
   "execution_count": null,
   "metadata": {},
   "outputs": [],
   "source": [
    "import name\n",
    "name.print_name(\"praveen\")"
   ]
  },
  {
   "cell_type": "code",
   "execution_count": null,
   "metadata": {},
   "outputs": [],
   "source": [
    "name.justforfun(56)"
   ]
  },
  {
   "cell_type": "code",
   "execution_count": null,
   "metadata": {},
   "outputs": [],
   "source": [
    "import math\n",
    "print(math.pi)\n",
    "\n",
    "\n",
    "import datetime\n",
    "datetime.datetime.now()\n"
   ]
  },
  {
   "cell_type": "code",
   "execution_count": null,
   "metadata": {},
   "outputs": [],
   "source": [
    "# dir () We can use the dir() function to find out names that are defined inside a module.\n",
    "\n",
    "dir(calculation)\n",
    "\n",
    "print(example.add.__doc__)\n",
    "\n"
   ]
  },
  {
   "cell_type": "markdown",
   "metadata": {},
   "source": [
    "Package\n",
    "\n",
    "Packages are a way of structuring Python’s module namespace by using “dotted module names”.\n",
    "\n",
    "A directory must contain a file named __init__.py in order for Python to consider it as a package. This file can be left empty but we generally place the initialization code for that package in this file.\n",
    "\n",
    "\n",
    "https://www.programiz.com/python-programming/package\n"
   ]
  },
  {
   "cell_type": "code",
   "execution_count": null,
   "metadata": {},
   "outputs": [],
   "source": [
    "import Game.calculation "
   ]
  },
  {
   "cell_type": "code",
   "execution_count": null,
   "metadata": {},
   "outputs": [],
   "source": [
    "Game.calculation.add(9,10)"
   ]
  },
  {
   "cell_type": "code",
   "execution_count": null,
   "metadata": {},
   "outputs": [],
   "source": [
    "from Game.Sound import *"
   ]
  },
  {
   "cell_type": "code",
   "execution_count": null,
   "metadata": {},
   "outputs": [],
   "source": [
    "calculation2.add(9,8)"
   ]
  },
  {
   "cell_type": "code",
   "execution_count": null,
   "metadata": {},
   "outputs": [],
   "source": [
    "import Game.Sound.calculation2 "
   ]
  },
  {
   "cell_type": "code",
   "execution_count": null,
   "metadata": {},
   "outputs": [],
   "source": [
    "Game.Sound.calculation2.add(9,4)"
   ]
  },
  {
   "cell_type": "markdown",
   "metadata": {},
   "source": [
    "## Introduction to Exception Handling, FILE I/O\n",
    "\n",
    "\n",
    "Python Errors and Built-in-Exceptions"
   ]
  },
  {
   "cell_type": "code",
   "execution_count": 87,
   "metadata": {},
   "outputs": [
    {
     "ename": "SyntaxError",
     "evalue": "invalid syntax (<ipython-input-87-769235223788>, line 8)",
     "output_type": "error",
     "traceback": [
      "\u001b[1;36m  File \u001b[1;32m\"<ipython-input-87-769235223788>\"\u001b[1;36m, line \u001b[1;32m8\u001b[0m\n\u001b[1;33m    +=\u001b[0m\n\u001b[1;37m    ^\u001b[0m\n\u001b[1;31mSyntaxError\u001b[0m\u001b[1;31m:\u001b[0m invalid syntax\n"
     ]
    }
   ],
   "source": [
    "# Error caused by not following the proper structure (syntax) of the \n",
    "# language is called syntax error or parsing error.\n",
    "\n",
    "# if\n",
    "\n",
    "# try\n",
    "\n",
    "+="
   ]
  },
  {
   "cell_type": "code",
   "execution_count": 96,
   "metadata": {},
   "outputs": [
    {
     "ename": "IndexError",
     "evalue": "list index out of range",
     "output_type": "error",
     "traceback": [
      "\u001b[1;31m---------------------------------------------------------------------------\u001b[0m",
      "\u001b[1;31mIndexError\u001b[0m                                Traceback (most recent call last)",
      "\u001b[1;32m<ipython-input-96-3c126fe3b04e>\u001b[0m in \u001b[0;36m<module>\u001b[1;34m\u001b[0m\n\u001b[0;32m      1\u001b[0m \u001b[0mlist1\u001b[0m \u001b[1;33m=\u001b[0m \u001b[1;33m[\u001b[0m\u001b[1;36m1\u001b[0m\u001b[1;33m,\u001b[0m\u001b[1;36m2\u001b[0m\u001b[1;33m,\u001b[0m\u001b[1;36m3\u001b[0m\u001b[1;33m,\u001b[0m\u001b[1;36m4\u001b[0m\u001b[1;33m,\u001b[0m\u001b[1;36m5\u001b[0m\u001b[1;33m]\u001b[0m\u001b[1;33m\u001b[0m\u001b[1;33m\u001b[0m\u001b[0m\n\u001b[1;32m----> 2\u001b[1;33m \u001b[0mprint\u001b[0m\u001b[1;33m(\u001b[0m\u001b[0mlist1\u001b[0m\u001b[1;33m[\u001b[0m\u001b[1;36m10\u001b[0m\u001b[1;33m]\u001b[0m\u001b[1;33m)\u001b[0m\u001b[1;33m\u001b[0m\u001b[1;33m\u001b[0m\u001b[0m\n\u001b[0m",
      "\u001b[1;31mIndexError\u001b[0m: list index out of range"
     ]
    }
   ],
   "source": [
    "list1 = [1,2,3,4,5]\n",
    "print(list1[10])"
   ]
  },
  {
   "cell_type": "code",
   "execution_count": 97,
   "metadata": {},
   "outputs": [
    {
     "name": "stdout",
     "output_type": "stream",
     "text": [
      "Heelo World\n",
      "There was some issue which has been handled.\n",
      "Heelo World\n",
      "Heelo World\n",
      "Heelo World\n"
     ]
    }
   ],
   "source": [
    "print(\"Heelo World\")\n",
    "try:\n",
    "    list1 = [1,2,3,4,5]\n",
    "    print(list1[10])\n",
    "except:\n",
    "    print(\"There was some issue which has been handled.\")\n",
    "    \n",
    "print(\"Heelo World\")\n",
    "print(\"Heelo World\")\n",
    "print(\"Heelo World\")"
   ]
  },
  {
   "cell_type": "code",
   "execution_count": 93,
   "metadata": {},
   "outputs": [
    {
     "name": "stdout",
     "output_type": "stream",
     "text": [
      "['ArithmeticError', 'AssertionError', 'AttributeError', 'BaseException', 'BlockingIOError', 'BrokenPipeError', 'BufferError', 'BytesWarning', 'ChildProcessError', 'ConnectionAbortedError', 'ConnectionError', 'ConnectionRefusedError', 'ConnectionResetError', 'DeprecationWarning', 'EOFError', 'Ellipsis', 'EnvironmentError', 'Exception', 'False', 'FileExistsError', 'FileNotFoundError', 'FloatingPointError', 'FutureWarning', 'GeneratorExit', 'IOError', 'ImportError', 'ImportWarning', 'IndentationError', 'IndexError', 'InterruptedError', 'IsADirectoryError', 'KeyError', 'KeyboardInterrupt', 'LookupError', 'MemoryError', 'ModuleNotFoundError', 'NameError', 'None', 'NotADirectoryError', 'NotImplemented', 'NotImplementedError', 'OSError', 'OverflowError', 'PendingDeprecationWarning', 'PermissionError', 'ProcessLookupError', 'RecursionError', 'ReferenceError', 'ResourceWarning', 'RuntimeError', 'RuntimeWarning', 'StopAsyncIteration', 'StopIteration', 'SyntaxError', 'SyntaxWarning', 'SystemError', 'SystemExit', 'TabError', 'TimeoutError', 'True', 'TypeError', 'UnboundLocalError', 'UnicodeDecodeError', 'UnicodeEncodeError', 'UnicodeError', 'UnicodeTranslateError', 'UnicodeWarning', 'UserWarning', 'ValueError', 'Warning', 'WindowsError', 'ZeroDivisionError', '__IPYTHON__', '__build_class__', '__debug__', '__doc__', '__import__', '__loader__', '__name__', '__package__', '__spec__', 'abs', 'all', 'any', 'ascii', 'bin', 'bool', 'breakpoint', 'bytearray', 'bytes', 'callable', 'chr', 'classmethod', 'compile', 'complex', 'copyright', 'credits', 'delattr', 'dict', 'dir', 'display', 'divmod', 'enumerate', 'eval', 'exec', 'filter', 'float', 'format', 'frozenset', 'get_ipython', 'getattr', 'globals', 'hasattr', 'hash', 'help', 'hex', 'id', 'input', 'int', 'isinstance', 'issubclass', 'iter', 'len', 'license', 'list', 'locals', 'map', 'max', 'memoryview', 'min', 'next', 'object', 'oct', 'open', 'ord', 'pow', 'print', 'property', 'range', 'repr', 'reversed', 'round', 'set', 'setattr', 'slice', 'sorted', 'staticmethod', 'str', 'sum', 'super', 'tuple', 'type', 'vars', 'zip']\n"
     ]
    }
   ],
   "source": [
    "print(dir(locals()['__builtins__']))"
   ]
  },
  {
   "cell_type": "code",
   "execution_count": 105,
   "metadata": {},
   "outputs": [
    {
     "data": {
      "text/plain": [
       "10"
      ]
     },
     "execution_count": 105,
     "metadata": {},
     "output_type": "execute_result"
    }
   ],
   "source": [
    "a"
   ]
  },
  {
   "cell_type": "code",
   "execution_count": 109,
   "metadata": {},
   "outputs": [
    {
     "name": "stdout",
     "output_type": "stream",
     "text": [
      "1\n",
      "800.0 1\n",
      "2\n",
      "400.0 2\n",
      "3\n",
      "266.6666666666667 3\n",
      "4\n",
      "200.0 4\n",
      "5\n",
      "160.0 5\n",
      "6\n",
      "133.33333333333334 6\n",
      "6\n",
      "133.33333333333334 6\n",
      "0\n",
      "Error\n",
      "5\n",
      "160.0 5\n",
      "4\n",
      "200.0 4\n",
      "2\n",
      "400.0 2\n",
      "10\n",
      "80.0 10\n",
      "5\n",
      "160.0 5\n",
      "67\n",
      "11.940298507462687 67\n",
      "5\n",
      "160.0 5\n",
      "0\n",
      "Error\n",
      "Last line of code\n",
      "16\n"
     ]
    }
   ],
   "source": [
    "# How Exception handling stops our programm from executing\n",
    "import sys\n",
    "list1 = [1,2,3,4,5,6,6,0,5,4,2,10,5,67,5,0]\n",
    "# for val in list1:\n",
    "#     res = val/0\n",
    "#     print(res)\n",
    "# 100 lines =\n",
    "value = 800    \n",
    "count =0\n",
    "for i in list1:\n",
    "    try:\n",
    "        print(i)  # this does not exist 3 manual\n",
    "        res = value/i\n",
    "    except:\n",
    "        print(\"Error\")\n",
    "    else:\n",
    "        print(res, i)\n",
    "    count += 1   \n",
    "\n",
    "print(\"Last line of code\")\n",
    "print(count)\n",
    "\n",
    "\n"
   ]
  },
  {
   "cell_type": "code",
   "execution_count": null,
   "metadata": {},
   "outputs": [],
   "source": [
    "dir(__builtins__)"
   ]
  },
  {
   "cell_type": "code",
   "execution_count": 115,
   "metadata": {},
   "outputs": [
    {
     "name": "stdout",
     "output_type": "stream",
     "text": [
      "[(90, 90), [1, 1, 4], (6, 7, 8), (3, 4, 5), [2, 1, 4, 3, 4], (9, 0, 8, 0)]\n"
     ]
    }
   ],
   "source": [
    "# write a programm to handle the exception occured while updating the tuple:\n",
    "list1 = [(90,90),[1,2,4],(6,7,8),(3,4,5),[2,3,4,3,4],(9,0,8,0)]\n",
    "\n",
    "\n",
    "for val in list1:\n",
    "#     print(val)\n",
    "    try:\n",
    "        val[1]=1\n",
    "    except:\n",
    "#         print(\"We got some error while updating the value.\")\n",
    "        continue\n",
    "print(list1)"
   ]
  },
  {
   "cell_type": "code",
   "execution_count": 3,
   "metadata": {},
   "outputs": [
    {
     "name": "stdout",
     "output_type": "stream",
     "text": [
      "The entry is string_value\n",
      "Oops! <class 'ValueError'> occured.\n",
      "Error Occured while saving the dataframe\n",
      "The entry is 987\n",
      "The entry is 2908\n",
      "The entry is 0\n",
      "Oops! <class 'ZeroDivisionError'> occured.\n",
      "Error Occured while saving the dataframe\n",
      "The reciprocal of 0 is 0.000343878954607978\n"
     ]
    }
   ],
   "source": [
    "# Catching Exceptions in Python\n",
    "\n",
    "# In Python, exceptions can be handled using a try statement.\n",
    "\n",
    "\n",
    "# The sys module, exposes the current exception in three parallel variables, exc_type , exc_value , and exc_traceback , the sys. exc_info() function returns a tuple of these three parts,\n",
    "# and the raise statement has a three-argument form accepting these three parts.\n",
    "\n",
    "#import module sys to get the type of exception\n",
    "import sys\n",
    "lst = ['string_value', 987, 2908, 0]\n",
    "\n",
    "for entry in lst:\n",
    "    try:\n",
    "        print(\"The entry is\", entry)\n",
    "        r = 1 / int(entry) # calculating\n",
    "\n",
    "#         1 kind of error\n",
    "#         df.to_csv('filename_csv.csv') #80the line # working direcotru   \n",
    "    # kind of error\n",
    "#     df.to_csv('\\home\\username\\doc\\filen')\n",
    "\n",
    "    \n",
    "    except:\n",
    "        print(\"Oops!\", sys.exc_info()[0],\"occured.\")\n",
    "        print(\"Error Occured while saving the dataframe\")\n",
    "        \n",
    "print(\"The reciprocal of\", entry, \"is\", r)"
   ]
  },
  {
   "cell_type": "code",
   "execution_count": 5,
   "metadata": {},
   "outputs": [
    {
     "name": "stdout",
     "output_type": "stream",
     "text": [
      "The entry is string_value\n",
      "This is a ValueError.\n",
      "The entry is 987\n",
      "The entry is 2908\n",
      "The entry is 0\n",
      "This is a ZeroError.\n",
      "The entry is ('a', 'b')\n",
      "This is because trying to divide by tuple\n",
      "The reciprocal of ('a', 'b') is 0.000343878954607978\n"
     ]
    }
   ],
   "source": [
    "import sys\n",
    "\n",
    "lst = ['string_value', 987, 2908, 0, ('a','b')] #included zero here to see Zero Error\n",
    "\n",
    "\n",
    "# 1/'string_value' = error\n",
    "\n",
    "\n",
    "# 1/987  = correct result\n",
    "\n",
    "\n",
    "# 1/2908 = correct result\n",
    "\n",
    "# 1/0 = error\n",
    "\n",
    "\n",
    "# 1/('a','b') = error\n",
    "\n",
    "\n",
    "# try:\n",
    "for entry in lst:\n",
    "    try:\n",
    "#         print(type(entry))\n",
    "#         if isinstance(entry,tuple):\n",
    "# #             print(\"found one tuple\")\n",
    "#             entry[0]='king'\n",
    "        print(\"The entry is\", entry)\n",
    "        r = 1 / int(entry)\n",
    "    except(ValueError): \n",
    "        print(\"This is a ValueError.\")\n",
    "    except(ZeroDivisionError):\n",
    "        print(\"This is a ZeroError.\")\n",
    "    except(TypeError):\n",
    "        print(\"This is because trying to divide by tuple\")\n",
    "    except:\n",
    "        print(sys.exc_info()[0])\n",
    "        print(\"Some other error\")\n",
    "        \n",
    "#     try:\n",
    "#         print\n",
    "#     except:\n",
    "# except:\n",
    "    \n",
    "print(\"The reciprocal of\", entry, \"is\", r)"
   ]
  },
  {
   "cell_type": "code",
   "execution_count": 8,
   "metadata": {},
   "outputs": [
    {
     "ename": "ValueError",
     "evalue": "memory allocated is > 400 MB",
     "output_type": "error",
     "traceback": [
      "\u001b[1;31m---------------------------------------------------------------------------\u001b[0m",
      "\u001b[1;31mValueError\u001b[0m                                Traceback (most recent call last)",
      "\u001b[1;32m<ipython-input-8-f5e1be463e79>\u001b[0m in \u001b[0;36m<module>\u001b[1;34m\u001b[0m\n\u001b[0;32m      6\u001b[0m \u001b[1;36m512\u001b[0m\u001b[1;33m\u001b[0m\u001b[1;33m\u001b[0m\u001b[0m\n\u001b[0;32m      7\u001b[0m \u001b[1;31m# load 400 > MB\u001b[0m\u001b[1;33m\u001b[0m\u001b[1;33m\u001b[0m\u001b[1;33m\u001b[0m\u001b[0m\n\u001b[1;32m----> 8\u001b[1;33m \u001b[1;32mraise\u001b[0m \u001b[0mValueError\u001b[0m\u001b[1;33m(\u001b[0m\u001b[1;34m\"memory allocated is > 400 MB\"\u001b[0m\u001b[1;33m)\u001b[0m\u001b[1;33m\u001b[0m\u001b[1;33m\u001b[0m\u001b[0m\n\u001b[0m",
      "\u001b[1;31mValueError\u001b[0m: memory allocated is > 400 MB"
     ]
    }
   ],
   "source": [
    "\n",
    "# Raising Exceptions\n",
    "\n",
    "# we can forcefully raise any exceptiion even if there is no exception keyword raise.\n",
    "# raise FileExistsError\n",
    "# memory = 512 MB\n",
    "512\n",
    "# load 400 > MB\n",
    "raise ValueError(\"memory allocated is > 400 MB\")"
   ]
  },
  {
   "cell_type": "code",
   "execution_count": 21,
   "metadata": {},
   "outputs": [
    {
     "name": "stdout",
     "output_type": "stream",
     "text": [
      "Enter a positive integer:-9\n",
      "some error\n"
     ]
    }
   ],
   "source": [
    "# Raising custom exception with some custom input pattern\n",
    "\n",
    "# list1 = ['india','china','usa','italy']\n",
    "\n",
    "# country name - will be entered by \n",
    "\n",
    "\n",
    "# num = int(input(\"Enter a positive integer:\"))\n",
    "# if num <= 0:\n",
    "#     raise ValueError(\"Error:Entered value less than 10\")\n",
    "    \n",
    "#We can handle the custome raised exception as well using try catch\n",
    "try:\n",
    "    num = int(input(\"Enter a positive integer:\"))\n",
    "    if num <= 0:\n",
    "#         raise ValueError(\"Error: Entered negative number\")\n",
    "        raise FileExistsError(\"This is file exist error\") #with some error message\n",
    "except:\n",
    "    print(\"some error\")"
   ]
  },
  {
   "cell_type": "code",
   "execution_count": null,
   "metadata": {},
   "outputs": [],
   "source": [
    "num = int(input(\"Enter a positive integer:\"))\n",
    "if num <= 0:\n",
    "    raise ValueError(\"Error: Entered negative number\")"
   ]
  },
  {
   "cell_type": "code",
   "execution_count": 27,
   "metadata": {},
   "outputs": [
    {
     "name": "stdout",
     "output_type": "stream",
     "text": [
      "this exception handled\n",
      "this line will be executed\n"
     ]
    }
   ],
   "source": [
    "# try ... finally\n",
    "# finally clause is executed no matter what, and is generally used to release external resources.\n",
    "\n",
    "try:\n",
    "    f = open('sample.txt') #this file does not exist\n",
    "#     print(\"hello\")\n",
    "#perform file operations\n",
    "#     print(1/2)\n",
    "except:\n",
    "    print(\"this exception handled\")\n",
    "finally:\n",
    "    f.close()\n",
    "    print(\"this line will be executed\")\n",
    "# print(\"hhh\")"
   ]
  },
  {
   "cell_type": "code",
   "execution_count": null,
   "metadata": {},
   "outputs": [],
   "source": []
  }
 ],
 "metadata": {
  "kernelspec": {
   "display_name": "Python 3",
   "language": "python",
   "name": "python3"
  },
  "language_info": {
   "codemirror_mode": {
    "name": "ipython",
    "version": 3
   },
   "file_extension": ".py",
   "mimetype": "text/x-python",
   "name": "python",
   "nbconvert_exporter": "python",
   "pygments_lexer": "ipython3",
   "version": "3.8.5"
  }
 },
 "nbformat": 4,
 "nbformat_minor": 4
}
