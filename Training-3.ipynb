{
 "cells": [
  {
   "cell_type": "markdown",
   "metadata": {},
   "source": [
    "#### Lists\n",
    "Data Structure:\n",
    "\n",
    "A data structure is a collection of data elements (such as numbers or characters—or even other data structures) that is structured in some way, for example, by numbering the elements. The most basic data structure in Python is the \"sequence\".\n",
    "\n",
    "-> List is one of the Sequence Data structure\n",
    "\n",
    "-> Lists are collection of items (Strings, integers or even other lists)\n",
    "\n",
    "-> Lists are enclosed in [ ]\n",
    "\n",
    "-> Each item in the list has an assigned index value.\n",
    "\n",
    "-> Each item in a list is separated by a comma\n",
    "\n",
    "-> Lists are mutable, which means they can be changed."
   ]
  },
  {
   "cell_type": "code",
   "execution_count": 14,
   "metadata": {},
   "outputs": [],
   "source": [
    "# emptyList = []\n",
    "\n",
    "# lst = ['one', 'two', 'three', 'four'] # list of strings\n",
    "\n",
    "# lst2 = [1, 2, 3, 4] #list of integers\n",
    "\n",
    "# lst3 = [[1, 2], [3, 4, [78,90,45], {'name':'rahul'}]] # list of lists and dictionary\n",
    "\n",
    "# lst4 = [1, 'ramu', 24, 1.24] # list of different datatypes"
   ]
  },
  {
   "cell_type": "code",
   "execution_count": 26,
   "metadata": {},
   "outputs": [
    {
     "data": {
      "text/plain": [
       "78"
      ]
     },
     "execution_count": 26,
     "metadata": {},
     "output_type": "execute_result"
    }
   ],
   "source": [
    "# print(type(emptyList))\n",
    "# print(isinstance(emptyList, list))\n",
    "# print(lst4[2])\n",
    "# print(lst3)\n",
    "# print(lst3[1][3]['name'])\n",
    "# print(len(lst3))\n",
    "# lst3[1][2][0]"
   ]
  },
  {
   "cell_type": "code",
   "execution_count": 35,
   "metadata": {},
   "outputs": [
    {
     "name": "stdout",
     "output_type": "stream",
     "text": [
      "['one', 'two', 'three', 'four', ('five', 'six')]\n"
     ]
    }
   ],
   "source": [
    "lst = ['one', 'two', 'three', 'four']\n",
    "\n",
    "# lst.append(('five','six')) # append will add the item at the end\n",
    "# lst.append(['five','six',2,3,4,5,6,7]) # append will add the item at the end\n",
    "# lst.append('five','siz') # append will add the item at the end\n",
    "# lst.extend(['five','six']) # append will add the item at the end\n",
    "\n",
    "# print(type(lst[4]))\n",
    "# print(type(lst))\n",
    "# print(len(lst))\n",
    "print(lst)"
   ]
  },
  {
   "cell_type": "code",
   "execution_count": 57,
   "metadata": {},
   "outputs": [],
   "source": [
    "input_list = list(range(1,20))\n",
    "# create a new list with only even number from given list and \n",
    "# square it and store in new list.\n",
    "\n",
    "list1 = []\n",
    "for num in input_list:\n",
    "    if num % 2==0:\n",
    "        list1.append(num ** 2)    \n",
    "print(list1)    "
   ]
  },
  {
   "cell_type": "code",
   "execution_count": 40,
   "metadata": {},
   "outputs": [
    {
     "name": "stdout",
     "output_type": "stream",
     "text": [
      "['one', 'two', 'five', 'four']\n"
     ]
    }
   ],
   "source": [
    "lst = ['one', 'two', 'four']\n",
    "lst.insert(2,\"five\") # will add element y at location x\n",
    "print(lst)"
   ]
  },
  {
   "cell_type": "code",
   "execution_count": 49,
   "metadata": {},
   "outputs": [
    {
     "name": "stdout",
     "output_type": "stream",
     "text": [
      "['one', 'three', 'four', 'two']\n"
     ]
    }
   ],
   "source": [
    "lst = ['one', 'two', 'three', 'four','two']\n",
    "a = lst.remove('two') #it will remove first occurence of 'two' in a given list\n",
    "print(lst)"
   ]
  },
  {
   "cell_type": "code",
   "execution_count": 51,
   "metadata": {},
   "outputs": [
    {
     "name": "stdout",
     "output_type": "stream",
     "text": [
      "None\n"
     ]
    }
   ],
   "source": [
    "print(a)"
   ]
  },
  {
   "cell_type": "code",
   "execution_count": 47,
   "metadata": {},
   "outputs": [],
   "source": [
    "lst = ['one', 'two', 'three', 'four','two']\n",
    "del lst[2]"
   ]
  },
  {
   "cell_type": "code",
   "execution_count": 52,
   "metadata": {},
   "outputs": [],
   "source": [
    "lst = ['one', 'two', 'three', 'four', 'five']\n",
    "#or we can use pop() method\n",
    "a = lst.pop(1)"
   ]
  },
  {
   "cell_type": "code",
   "execution_count": 55,
   "metadata": {},
   "outputs": [
    {
     "data": {
      "text/plain": [
       "'two'"
      ]
     },
     "execution_count": 55,
     "metadata": {},
     "output_type": "execute_result"
    }
   ],
   "source": [
    "a"
   ]
  },
  {
   "cell_type": "code",
   "execution_count": null,
   "metadata": {},
   "outputs": [],
   "source": []
  },
  {
   "cell_type": "code",
   "execution_count": null,
   "metadata": {},
   "outputs": [],
   "source": [
    "#Membership operator -in and not in\n",
    "\n",
    "# in and not in\n",
    "# it will check some value is present or not in our sequence\n",
    "\n",
    "#keyword 'in' is used to test if an item is in a list\n",
    "lst = ['one', 'two', 'three', 'four', 'six']\n",
    "if 'two' in lst:\n",
    "    print('yes')\n",
    "#keyword 'not' can combined with 'in'\n",
    "if 'seven' not in lst:\n",
    "    print('No')"
   ]
  },
  {
   "cell_type": "code",
   "execution_count": 62,
   "metadata": {},
   "outputs": [
    {
     "name": "stdout",
     "output_type": "stream",
     "text": [
      "['four', 'three', 'two', 'one']\n"
     ]
    }
   ],
   "source": [
    "lst = ['one', 'two', 'three', 'four']\n",
    "lst.reverse()\n",
    "# lst[::-1]\n",
    "print(lst)\n",
    "\n",
    "# insertion, deletion, membership operator"
   ]
  },
  {
   "cell_type": "code",
   "execution_count": 83,
   "metadata": {},
   "outputs": [
    {
     "ename": "AttributeError",
     "evalue": "'tuple' object has no attribute 'sort'",
     "output_type": "error",
     "traceback": [
      "\u001b[1;31m---------------------------------------------------------------------------\u001b[0m",
      "\u001b[1;31mAttributeError\u001b[0m                            Traceback (most recent call last)",
      "\u001b[1;32m<ipython-input-83-4d08d4666c99>\u001b[0m in \u001b[0;36m<module>\u001b[1;34m\u001b[0m\n\u001b[0;32m      1\u001b[0m \u001b[0mtuple1\u001b[0m \u001b[1;33m=\u001b[0m \u001b[1;33m(\u001b[0m\u001b[1;36m3\u001b[0m\u001b[1;33m,\u001b[0m\u001b[1;36m1\u001b[0m\u001b[1;33m,\u001b[0m\u001b[1;36m2\u001b[0m\u001b[1;33m,\u001b[0m\u001b[1;36m4\u001b[0m\u001b[1;33m,\u001b[0m\u001b[1;36m7\u001b[0m\u001b[1;33m,\u001b[0m\u001b[1;36m8\u001b[0m\u001b[1;33m,\u001b[0m\u001b[1;36m12\u001b[0m\u001b[1;33m,\u001b[0m\u001b[1;36m1\u001b[0m\u001b[1;33m)\u001b[0m\u001b[1;33m\u001b[0m\u001b[1;33m\u001b[0m\u001b[0m\n\u001b[1;32m----> 2\u001b[1;33m \u001b[0mprint\u001b[0m\u001b[1;33m(\u001b[0m\u001b[0mtuple1\u001b[0m\u001b[1;33m.\u001b[0m\u001b[0msort\u001b[0m\u001b[1;33m(\u001b[0m\u001b[1;33m)\u001b[0m\u001b[1;33m)\u001b[0m\u001b[1;33m\u001b[0m\u001b[1;33m\u001b[0m\u001b[0m\n\u001b[0m",
      "\u001b[1;31mAttributeError\u001b[0m: 'tuple' object has no attribute 'sort'"
     ]
    }
   ],
   "source": [
    "# tuple1 = (3,1,2,4,7,8,12,1)\n",
    "# print(tuple1.sort())"
   ]
  },
  {
   "cell_type": "code",
   "execution_count": 84,
   "metadata": {},
   "outputs": [
    {
     "name": "stdout",
     "output_type": "stream",
     "text": [
      "['abc', 'bgh', 'cde']\n"
     ]
    }
   ],
   "source": [
    "#create a list with numbers\n",
    "# numbers = [3, 1, 6, 2, 8]\n",
    "numbers = ['abc','cde','bgh']\n",
    "# print(sorted(numbers)) #list or tuple returns a sorted list. store in some variable.\n",
    "new_list = sorted(numbers)\n",
    "print(new_list)\n",
    "# print(numbers)\n",
    "\n",
    "numbers.sort()\n",
    "# print(numbers)\n",
    "# print(\"Sorted list :\", sorted_lst)\n",
    "#original list remain unchanged\n",
    "# print(\"Original list: \", numbers)\n",
    "# numbers.sort()\n",
    "# sort the original list itself\n",
    "# print(numbers) \n",
    "#print a list in reverse sorted order\n",
    "# print(\"Reverse sorted list :\", sorted(numbers, reverse=True))\n",
    "\n",
    "#orginal list remain unchanged\n",
    "# print(\"Original list :\",  numbers)"
   ]
  },
  {
   "cell_type": "code",
   "execution_count": 71,
   "metadata": {},
   "outputs": [
    {
     "ename": "TypeError",
     "evalue": "'<' not supported between instances of 'str' and 'int'",
     "output_type": "error",
     "traceback": [
      "\u001b[1;31m---------------------------------------------------------------------------\u001b[0m",
      "\u001b[1;31mTypeError\u001b[0m                                 Traceback (most recent call last)",
      "\u001b[1;32m<ipython-input-71-f94cfcd157fe>\u001b[0m in \u001b[0;36m<module>\u001b[1;34m\u001b[0m\n\u001b[0;32m      1\u001b[0m \u001b[0mlst\u001b[0m \u001b[1;33m=\u001b[0m \u001b[1;33m[\u001b[0m\u001b[1;36m1\u001b[0m\u001b[1;33m,\u001b[0m \u001b[1;36m20\u001b[0m\u001b[1;33m,\u001b[0m \u001b[1;34m' '\u001b[0m\u001b[1;33m,\u001b[0m \u001b[1;36m5\u001b[0m\u001b[1;33m,\u001b[0m \u001b[1;34m'a'\u001b[0m\u001b[1;33m]\u001b[0m\u001b[1;33m\u001b[0m\u001b[1;33m\u001b[0m\u001b[0m\n\u001b[1;32m----> 2\u001b[1;33m \u001b[0mprint\u001b[0m\u001b[1;33m(\u001b[0m\u001b[0mlst\u001b[0m\u001b[1;33m.\u001b[0m\u001b[0msort\u001b[0m\u001b[1;33m(\u001b[0m\u001b[1;33m)\u001b[0m\u001b[1;33m)\u001b[0m \u001b[1;31m# sort list with element of different datatypes.\u001b[0m\u001b[1;33m\u001b[0m\u001b[1;33m\u001b[0m\u001b[0m\n\u001b[0m",
      "\u001b[1;31mTypeError\u001b[0m: '<' not supported between instances of 'str' and 'int'"
     ]
    }
   ],
   "source": [
    "lst = [1, 20, ' ', 5, 'a']\n",
    "print(lst.sort()) # sort list with element of different datatypes."
   ]
  },
  {
   "cell_type": "code",
   "execution_count": 88,
   "metadata": {},
   "outputs": [
    {
     "name": "stdout",
     "output_type": "stream",
     "text": [
      "[1, 2, 3, 4, 5]\n",
      "[1, 2, 3, 4, 5, 6]\n",
      "[1, 2, 3, 4, 5]\n"
     ]
    }
   ],
   "source": [
    "#Multiple Reference\n",
    "lst = [1, 2, 3, 4, 5]\n",
    "# abc = lst\n",
    "abc = lst.copy() # both variable is referencing to the same object\n",
    "print(lst)\n",
    "# print(abc)\n",
    "abc.append(6)\n",
    "print(abc)\n",
    "print(lst)"
   ]
  },
  {
   "cell_type": "code",
   "execution_count": 101,
   "metadata": {},
   "outputs": [
    {
     "name": "stdout",
     "output_type": "stream",
     "text": [
      "New Delhi 3042\n"
     ]
    }
   ],
   "source": [
    "# Splitting\n",
    "\n",
    "# s = \"this is a simple string containing few words\"\n",
    "s = \"this&is&a python class\"\n",
    "\n",
    "\n",
    "# print(s.split('&'))\n",
    "\n",
    "str1 = 'New Delhi (3042)'\n",
    "# str1 = 'New Delhi-3042-19'\n",
    "# print(str1.split('-'))\n",
    "# branch_name, branch_code, state_id = str1.split('-')\n",
    "# print(branch_name, branch_code, state_id)\n",
    "\n",
    "print(str1.split(\"(\")[0].strip(), str1.split(\"(\")[1].rstrip(')'))\n"
   ]
  },
  {
   "cell_type": "code",
   "execution_count": null,
   "metadata": {},
   "outputs": [],
   "source": [
    "#Splitting\n",
    "\n",
    "# s = \"one twoth#,ree,four, fiv#e\"\n",
    "\n",
    "\n",
    "\n",
    "\n",
    "\n",
    "# print(list(s))\n",
    "# slst = s.split()  #default split is white-character: space or tab\n",
    "\n",
    "# print(s.split('&'))\n",
    "\n",
    "\n",
    "\n",
    "\n",
    "\n",
    "# print(slst)\n",
    "\n",
    "# Branch Name\n",
    "# str1 = 'New Delhi (3042)'\n",
    "# str1 = 'New Delhi-3042-19'\n",
    "# str1_list = str1.split('-')\n",
    "# branch_name, branch_code, state_id = str1.split('-')\n",
    "# print(\"branch name is\", branch_name)\n",
    "# print(\"branch code is\", branch_code)\n",
    "# print(\"state id\", state_id)\n",
    "\n",
    "# print(str1.split('-'))\n",
    "# print(str1_list[0], str1_list[2])\n",
    "# print(str1.split('-')[1])\n",
    "# print(str1.split('-')[2])\n",
    "# split_list = str1.split('(')\n",
    "# print(split_list[1].rstrip(')'))\n",
    "# str2 = \"  this is good notebook)%\"\n",
    "# # print(str2.strip())\n",
    "# # print(str2.lstrip())\n",
    "# print(str2.rstrip(')%'))\n",
    "# print(str2)\n"
   ]
  },
  {
   "cell_type": "code",
   "execution_count": 132,
   "metadata": {},
   "outputs": [
    {
     "name": "stdout",
     "output_type": "stream",
     "text": [
      "e\n"
     ]
    }
   ],
   "source": [
    "# List Slicing\n",
    "\n",
    "# numbers = [10, 20, 30, 40, 50,60,70,80,90,100,110,120]\n",
    "numbers = \"this is a good house\"\n",
    "#[start : end : skip]\n",
    "\n",
    "# numbers[1:8:4]\n",
    "#last value\n",
    "# numbers[-2]\n",
    "# numbers[4::3]\n",
    "\n",
    "# numbers[-3::-3]\n",
    "\n",
    "# numbers[::]\n",
    "# numbers[:]\n",
    "# numbers\n",
    "print(numbers[:-2:-1])"
   ]
  },
  {
   "cell_type": "code",
   "execution_count": null,
   "metadata": {},
   "outputs": [],
   "source": [
    "\n",
    "\n",
    "numbers = \"this is a good house\"\n",
    "\n",
    "# [start: end :skip]\n",
    "# print(numbers[-len(numbers)])\n",
    "# print(numbers[::])\n",
    "# print(numbers[:])\n",
    "print(numbers[-6:-3:])\n",
    "\n",
    "\n",
    "# print(numbers[:-2:-1])\n",
    "\n",
    "#print all numbers\n",
    "# print(numbers[:]) \n",
    "# [start:end]  ->\n",
    "\n",
    "#print from index 0 to index 3\n",
    "# print(numbers[0:4])\n",
    "\n",
    "# print(numbers[-3:])\n",
    "\n",
    "# print (numbers)\n",
    "#print alternate elements in a list\n",
    "# print(numbers[::1])\n",
    "\n",
    "#print elemnts start from 0 through rest of the list\n",
    "# print(numbers[2::2]) #[start : end : skip]"
   ]
  },
  {
   "cell_type": "code",
   "execution_count": 3,
   "metadata": {},
   "outputs": [
    {
     "name": "stdout",
     "output_type": "stream",
     "text": [
      "[1, 2, 3, 4, 'a', 'b', 'c', 'd']\n",
      "[1, 2, 3, 4, 'a', 'b', 'c', 'd']\n"
     ]
    }
   ],
   "source": [
    "#concatenation\n",
    "# extend using \"+\"\n",
    "lst1 = [1, 2, 3, 4]\n",
    "lst2 = ['a','b','c','d']\n",
    "new_lst = lst1 + lst2 # extend\n",
    "\n",
    "\n",
    "lst1.extend(lst2)\n",
    "print(lst1)\n",
    "print(new_lst)"
   ]
  },
  {
   "cell_type": "code",
   "execution_count": 16,
   "metadata": {},
   "outputs": [
    {
     "data": {
      "text/plain": [
       "{'Python': 1,\n",
       " 'is': 1,\n",
       " 'often': 1,\n",
       " 'used': 1,\n",
       " 'as': 1,\n",
       " 'a': 1,\n",
       " 'support': 1,\n",
       " 'language': 1,\n",
       " 'for': 5,\n",
       " 'software': 1,\n",
       " 'developers,': 1,\n",
       " 'build': 2,\n",
       " 'control': 1,\n",
       " 'and': 5,\n",
       " 'management,': 1,\n",
       " 'testing,': 1,\n",
       " 'in': 1,\n",
       " 'many': 1,\n",
       " 'other': 1,\n",
       " 'ways.': 1,\n",
       " 'SCons': 1,\n",
       " 'control.': 1,\n",
       " 'Buildbot': 1,\n",
       " 'Apache': 1,\n",
       " 'Gump': 1,\n",
       " 'automated': 1,\n",
       " 'continuous': 1,\n",
       " 'compilation': 1,\n",
       " 'testing.': 1,\n",
       " 'Roundup': 1,\n",
       " 'or': 1,\n",
       " 'Trac': 1,\n",
       " 'bug': 1,\n",
       " 'tracking': 1,\n",
       " 'project': 1,\n",
       " 'management.': 1}"
      ]
     },
     "execution_count": 16,
     "metadata": {},
     "output_type": "execute_result"
    }
   ],
   "source": [
    "string1 = \"Python is often used as a support language for software developers, \\\n",
    "for build control and management, testing, and in many other ways. SCons for build control. Buildbot and Apache Gump for automated \\\n",
    "continuous compilation and testing. Roundup or Trac for bug tracking and project management.\"\n",
    "# print(string1)\n",
    "# problem, count the frequency of each word in given string.\n",
    "# hints -> split, count, loop\n",
    "\n",
    "# output\n",
    "# {Python: 2\n",
    "# is: 5\n",
    "# ...\n",
    "\n",
    "# ...\n",
    "# mahagement : 2}\n",
    "count_dict = {}\n",
    "for i in string1.split():\n",
    "#     print(i,\"is present \",string1.count(i),\" times\")\n",
    "    count_dict[i] = string1.split().count(i)\n",
    "    \n",
    "count_dict    \n",
    "# print(string1.split())"
   ]
  },
  {
   "cell_type": "code",
   "execution_count": 7,
   "metadata": {},
   "outputs": [
    {
     "name": "stdout",
     "output_type": "stream",
     "text": [
      "2\n"
     ]
    }
   ],
   "source": [
    "#counting individual entity\n",
    "\n",
    "numbers = [1, 2, 3, 1, 3, 4, 2, 5]\n",
    "\n",
    "#frequency of 1 in a list\n",
    "print(numbers.count(1))\n",
    "\n",
    "#frequency of 3 in a list\n",
    "# print(numbers.count(3))"
   ]
  },
  {
   "cell_type": "code",
   "execution_count": 18,
   "metadata": {},
   "outputs": [
    {
     "name": "stdout",
     "output_type": "stream",
     "text": [
      "[0, 1, 4, 9, 16, 25, 36, 49, 64, 81]\n"
     ]
    }
   ],
   "source": [
    "# without list comprehension\n",
    "# squares = []\n",
    "# for i in range(10):\n",
    "#     squares.append(i**2)   #list append\n",
    "# print(squares)\n",
    "\n",
    "\n",
    "#using list comprehension\n",
    "squares = [i**2 for i in range(10)]\n",
    "print(squares)\n"
   ]
  },
  {
   "cell_type": "code",
   "execution_count": 19,
   "metadata": {},
   "outputs": [
    {
     "name": "stdout",
     "output_type": "stream",
     "text": [
      "[-20, -40, 20, 40, 100]\n",
      "[10, 20, 50]\n",
      "[(0, 0), (1, 1), (2, 4), (3, 9), (4, 16), (5, 25), (6, 36), (7, 49), (8, 64), (9, 81)]\n"
     ]
    }
   ],
   "source": [
    "#example\n",
    "lst = [-10, -20, 10, 20, 50]\n",
    "\n",
    "#create a new list with values doubled\n",
    "new_lst = [i*2 for i in lst]\n",
    "print(new_lst)\n",
    "\n",
    "#filter the list to exclude negative numbers\n",
    "new_lst = [i  for i in lst   if i >= 0]\n",
    "print(new_lst)\n",
    "\n",
    "\n",
    "#create a list of tuples like (number, square_of_number)\n",
    "new_lst = [(i, i**2) for i in range(10)]\n",
    "print(new_lst)"
   ]
  },
  {
   "cell_type": "code",
   "execution_count": 20,
   "metadata": {},
   "outputs": [
    {
     "name": "stdout",
     "output_type": "stream",
     "text": [
      "[[1, 2, 3, 4], [5, 6, 7, 8], [9, 10, 11, 12]]\n",
      "[[1, 5, 9], [2, 6, 10], [3, 7, 11], [4, 8, 12]]\n"
     ]
    }
   ],
   "source": [
    "#let's suppose we have a matrix\n",
    "# len(matrix)\n",
    "# lst.append(row[i])  i =0, 1, 2 ,3\n",
    "# output of transposed matrix\n",
    "[\n",
    " [1, 5, 9], \n",
    " [2, 6, 10], \n",
    " [3, 7, 11], \n",
    " [4, 8, 12]\n",
    "]\n",
    "#transpose of a matrix without list comprehension\n",
    "matrix = [\n",
    "    [1, 2, 3, 4],\n",
    "    [5, 6, 7, 8],\n",
    "    [9, 10, 11, 12]\n",
    "]\n",
    "# print(matrix)\n",
    "transposed = []\n",
    "for i in range(4):    #0,1,2,3\n",
    "    lst = []\n",
    "    for r in matrix:\n",
    "        lst.append(r[i])\n",
    "    transposed.append(lst)\n",
    "\n",
    "print(transposed)"
   ]
  },
  {
   "cell_type": "code",
   "execution_count": 21,
   "metadata": {},
   "outputs": [
    {
     "name": "stdout",
     "output_type": "stream",
     "text": [
      "[[1, 5, 9], [2, 6, 10], [3, 7, 11], [4, 8, 12]]\n"
     ]
    }
   ],
   "source": [
    "#with list comprehension\n",
    "transposed = [[row[i] for row in matrix]  for i in range(4)]\n",
    "print(transposed)"
   ]
  },
  {
   "cell_type": "markdown",
   "metadata": {},
   "source": [
    "#### Tuples\n",
    "-> A tuple is similar to list\n",
    "\n",
    "-> The diffence between the two is that we can't change the elements of tuple once it is assigned whereas in the list, elements can be changed"
   ]
  },
  {
   "cell_type": "code",
   "execution_count": 34,
   "metadata": {},
   "outputs": [
    {
     "ename": "TypeError",
     "evalue": "'tuple' object does not support item assignment",
     "output_type": "error",
     "traceback": [
      "\u001b[1;31m---------------------------------------------------------------------------\u001b[0m",
      "\u001b[1;31mTypeError\u001b[0m                                 Traceback (most recent call last)",
      "\u001b[1;32m<ipython-input-34-0c1d79ea0a32>\u001b[0m in \u001b[0;36m<module>\u001b[1;34m\u001b[0m\n\u001b[0;32m     18\u001b[0m \u001b[1;33m\u001b[0m\u001b[0m\n\u001b[0;32m     19\u001b[0m \u001b[1;33m\u001b[0m\u001b[0m\n\u001b[1;32m---> 20\u001b[1;33m \u001b[0mt\u001b[0m\u001b[1;33m[\u001b[0m\u001b[1;36m3\u001b[0m\u001b[1;33m]\u001b[0m \u001b[1;33m=\u001b[0m \u001b[1;34m'k'\u001b[0m\u001b[1;33m\u001b[0m\u001b[1;33m\u001b[0m\u001b[0m\n\u001b[0m\u001b[0;32m     21\u001b[0m \u001b[0mt\u001b[0m\u001b[1;33m[\u001b[0m\u001b[1;36m2\u001b[0m\u001b[1;33m]\u001b[0m\u001b[1;33m[\u001b[0m\u001b[1;36m2\u001b[0m\u001b[1;33m]\u001b[0m \u001b[1;33m=\u001b[0m \u001b[1;36m390987888\u001b[0m\u001b[1;33m\u001b[0m\u001b[1;33m\u001b[0m\u001b[0m\n\u001b[0;32m     22\u001b[0m \u001b[1;31m# t[2][1] = 'john'\u001b[0m\u001b[1;33m\u001b[0m\u001b[1;33m\u001b[0m\u001b[1;33m\u001b[0m\u001b[0m\n",
      "\u001b[1;31mTypeError\u001b[0m: 'tuple' object does not support item assignment"
     ]
    }
   ],
   "source": [
    "#Tuple Creation\n",
    "#empty tuple\n",
    "# t = ()\n",
    "\n",
    "#tuple having integers\n",
    "# t = (1, 2, 3)\n",
    "# print(t)\n",
    "# print(type(t))\n",
    "\n",
    "# tuple with mixed datatypes\n",
    "# t = (1, 'raju', 28, 'abc')\n",
    "# print(t)\n",
    "\n",
    "#nested tuple\n",
    "t = (1, (2, 3, 4), [1, 'raju', 28, 'abc'])\n",
    "# t = [1, (2, 3, 4), (1, 'raju', 28, 'abc')]\n",
    "\n",
    "\n",
    "\n",
    "# t[3] = 'k'\n",
    "# t[2][2] = 390987888\n",
    "# t[2][1] = 'john'\n",
    "# print(t[2][1])\n",
    "\n",
    "# print(len(t))\n",
    "print(t)"
   ]
  },
  {
   "cell_type": "code",
   "execution_count": 48,
   "metadata": {},
   "outputs": [
    {
     "name": "stdout",
     "output_type": "stream",
     "text": [
      "(1, 2, 3, 4, 5, 6, 7, 8, 100, 9)\n"
     ]
    }
   ],
   "source": [
    "t = (1, 2, 3,4,5,6,7,8,18,9)\n",
    "# t[9] = 100\n",
    "t_list = list(t)\n",
    "t_list[8] = 100\n",
    "t = tuple(t_list)\n",
    "print(t)"
   ]
  },
  {
   "cell_type": "code",
   "execution_count": null,
   "metadata": {},
   "outputs": [],
   "source": [
    "#only parenthesis is not enough\n",
    "t = ('abc')\n",
    "print(type(t))\n",
    "\n",
    "#need a comma at the end\n",
    "t = ('abc',)\n",
    "print(type(t))\n",
    "\n",
    "#parenthesis is optional\n",
    "t = \"abc\",\n",
    "print(type(t))\n",
    "\n",
    "print(t)"
   ]
  },
  {
   "cell_type": "code",
   "execution_count": 49,
   "metadata": {},
   "outputs": [
    {
     "name": "stdout",
     "output_type": "stream",
     "text": [
      "b\n",
      "e\n",
      "('uvw', 'ring', 'tool')\n",
      "ring\n"
     ]
    }
   ],
   "source": [
    "# Accessing Elements in Tuple\n",
    "\n",
    "t = ('a', 'b', 'c', 'd', 'e')\n",
    "\n",
    "print(t[1])\n",
    "#negative index\n",
    "print(t[-1]) #print last element in a tuple\n",
    "\n",
    "#nested tuple\n",
    "t = ('ABC', ('uvw', 'ring', 'tool'))\n",
    "\n",
    "print(t[1])\n",
    "\n",
    "print(t[1][1])"
   ]
  },
  {
   "cell_type": "code",
   "execution_count": 55,
   "metadata": {},
   "outputs": [
    {
     "name": "stdout",
     "output_type": "stream",
     "text": [
      "True\n"
     ]
    }
   ],
   "source": [
    "# Changing a Tuple\n",
    "\n",
    "#creating tuple\n",
    "# t = (1, 2, 3, 4, [5, 6, 7])\n",
    "t = ['kjhks','h']\n",
    "# t[2] = 'x' #will get TypeError\n",
    "\n",
    "\n",
    "print(isinstance(t,list))"
   ]
  },
  {
   "cell_type": "code",
   "execution_count": 64,
   "metadata": {},
   "outputs": [
    {
     "name": "stdout",
     "output_type": "stream",
     "text": [
      "(1, 2, 3, 4, ['pr', 343, 67], 45, 56, ['34', 343, 67])\n"
     ]
    }
   ],
   "source": [
    "#Solve a problem-> update 1st value of list to = \"yourname\" if tuple contains any list otherwise skip\n",
    "# t1 = (1,2,3,4,['34',343,67])\n",
    "\n",
    "\n",
    "\n",
    "t1 = (1,2,3,4,['34',343,67],45, 56, ['34',343,67])\n",
    "# output - (1,2,3,4,['anything',343,67])\n",
    "\n",
    "# t1 = (1,2,3,4)\n",
    "# output - (1,2,3,4)\n",
    "\n",
    "# t1 = (1,2,3,['y'],4)\n",
    "# output - (1,2,3,['anything'],4)\n",
    "# Hint : (isinstance(t1,tuple)), (isinstance(t1,list))\n",
    "\n",
    "count\n",
    "for value in t1:\n",
    "    if isinstance(value, list):                \n",
    "        value[0] = \"pr\"\n",
    "        break\n",
    "        \n",
    "print(t1)\n",
    "\n"
   ]
  },
  {
   "cell_type": "code",
   "execution_count": 67,
   "metadata": {},
   "outputs": [
    {
     "name": "stdout",
     "output_type": "stream",
     "text": [
      "abc abc abc abc abc abc abc abc abc abc abc abc abc abc abc abc abc abc abc abc abc abc abc abc abc abc abc abc abc abc abc abc abc abc abc abc abc abc abc abc \n"
     ]
    }
   ],
   "source": [
    "#repeat the elements in a tuple for a given number of times using the * operator.\n",
    "t = (('a','b','c' ) * 4)\n",
    "\n",
    "\n",
    "# [1,2,3,4] * 4\n",
    "t = ('abc' * 4)\n",
    "\n",
    "\n",
    "t = 'abc ' * 40\n",
    "print(t)"
   ]
  },
  {
   "cell_type": "code",
   "execution_count": null,
   "metadata": {},
   "outputs": [],
   "source": [
    "# Tuple Deletion\n",
    "\n",
    "\n",
    "del "
   ]
  },
  {
   "cell_type": "code",
   "execution_count": 70,
   "metadata": {},
   "outputs": [
    {
     "name": "stdout",
     "output_type": "stream",
     "text": [
      "0\n"
     ]
    }
   ],
   "source": [
    "#Tuple Count\n",
    "t = (1, 2, 3, 1, 3, 3, 4, 1)\n",
    "#get the frequency of particular element appears in a tuple\n",
    "# print(t.count(1))\n",
    "\n",
    "#Tuple index\n",
    "print(t.index(1))"
   ]
  },
  {
   "cell_type": "code",
   "execution_count": 73,
   "metadata": {},
   "outputs": [
    {
     "name": "stdout",
     "output_type": "stream",
     "text": [
      "True\n",
      "False\n",
      "8\n",
      "[1, 1, 1, 2, 3, 3, 3, 4]\n",
      "4\n",
      "1\n",
      "18\n"
     ]
    }
   ],
   "source": [
    " #return index of the first element is equal to 3\n",
    "\n",
    "t = (1, 2, 3, 1, 3, 3, 4, 1)\n",
    "    \n",
    "#Membership operator\n",
    "print(1 in t)\n",
    "print(7 in t)\n",
    "\n",
    "#Length\n",
    "print(len(t))\n",
    "\n",
    "new_t = sorted(t, reverse = False)\n",
    "print(new_t) #Take elements in the tuple and return a new sorted list \n",
    "             #(does not sort the tuple itself).\n",
    "    \n",
    "print(max(t))\n",
    "\n",
    "print(min(t))\n",
    "\n",
    "print(sum(t))"
   ]
  },
  {
   "cell_type": "markdown",
   "metadata": {},
   "source": [
    "#### Sets\n",
    "-> A set is an unordered collection of items. Every element is unique (no duplicates).\n",
    "\n",
    "-> The set itself is mutable. We can add or remove items from it.\n",
    "\n",
    "-> Sets can be used to perform mathematical set operations like union, intersection, symmetric difference etc."
   ]
  },
  {
   "cell_type": "code",
   "execution_count": null,
   "metadata": {},
   "outputs": [],
   "source": [
    "#set of integers\n",
    "# s = {1, 2, 3} \n",
    "# print(s)\n",
    "\n",
    "#print type of s \n",
    "# print(type(s))\n",
    "\n",
    "\n",
    "# print(isinstance(s, set))\n",
    "\n",
    "#set doesn't allow duplicates. They store only one instance.\n",
    "# s = {1, 2, 3, 1, 4}\n",
    "# print(s)\n",
    "\n",
    "#Set from list or from tuple\n",
    "s = set((1, 2, 3, 1))\n",
    "print(s)"
   ]
  },
  {
   "cell_type": "code",
   "execution_count": null,
   "metadata": {},
   "outputs": [],
   "source": [
    "#we can add single element using add() method and \n",
    "#add multiple elements using update() method\n",
    "s = {1, 3}\n",
    "\n",
    "#set object doesn't support indexing\n",
    "# print(s[1]) #will get TypeError\n",
    "\n",
    "s.add(1) # single value\n",
    "print(s)\n",
    "\n",
    "# #add multiple elements\n",
    "s.update([5, 6, 1])\n",
    "print(s)\n",
    "\n",
    "# #add list and set\n",
    "s.update([8, 9], {10, 2, 3})\n",
    "print(s)\n",
    "\n",
    "# dir(s)"
   ]
  }
 ],
 "metadata": {
  "kernelspec": {
   "display_name": "Python 3",
   "language": "python",
   "name": "python3"
  },
  "language_info": {
   "codemirror_mode": {
    "name": "ipython",
    "version": 3
   },
   "file_extension": ".py",
   "mimetype": "text/x-python",
   "name": "python",
   "nbconvert_exporter": "python",
   "pygments_lexer": "ipython3",
   "version": "3.8.5"
  }
 },
 "nbformat": 4,
 "nbformat_minor": 4
}
