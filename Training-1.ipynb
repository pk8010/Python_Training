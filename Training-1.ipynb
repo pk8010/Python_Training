{
 "cells": [
  {
   "cell_type": "markdown",
   "metadata": {},
   "source": [
    "### What is the Benefit of Learning Python"
   ]
  },
  {
   "cell_type": "markdown",
   "metadata": {},
   "source": [
    "There are many benefits to learning Python as a programming language. Some of the most notable benefits include:\n",
    "\n",
    "Python is easy to read and understand: Python's simple, easy-to-learn syntax can help you become more productive, especially if you're new to programming.\n",
    "\n",
    "Python is a high-level language: Python is a high-level language, which means it abstracts away many of the complexities of programming, such as memory management and low-level data types. This makes it easier to focus on solving problems and building applications.\n",
    "\n",
    "Python has a large and active community: As a popular language, Python has a large and active community of users and developers. This means there is a wealth of resources available online, such as documentation, tutorials, and libraries, to help you learn and develop with Python.\n",
    "\n",
    "Python has a wide range of applications: Python is used in a variety of fields, including scientific computing, data analysis, artificial intelligence, and web development. This versatility makes it a good choice for beginners who are not sure what they want to do with programming, as well as for experienced developers who want to expand their skillset.\n",
    "\n",
    "Python has good libraries and frameworks: Python has a number of libraries and frameworks that make it easy to build various types of applications. For example, the Django web framework makes it easy to build server-side web applications, and the NumPy library provides support for efficient numerical computing.\n",
    "\n",
    "\n",
    "\n"
   ]
  },
  {
   "cell_type": "markdown",
   "metadata": {},
   "source": [
    "To install Jupyter Notebook, you will need to have Python installed on your system. You can check if you have Python already installed by opening a terminal or command prompt and entering the following command:\n",
    "\n",
    "Install Python First\n",
    "\n",
    "www.python.org\n",
    "\n",
    "\n",
    "Copy code\n",
    "python --version\n",
    "If you have Python installed, you should see the version number printed on the terminal. If you do not have Python installed, you will need to install it before you can install Jupyter Notebook.\n",
    "\n",
    "Once you have Python installed, you can install Jupyter Notebook by using the pip package manager. Open a terminal or command prompt and enter the following command:\n",
    "\n",
    "Copy code\n",
    "pip install jupyter\n",
    "This will install Jupyter Notebook and all of its dependencies. Once the installation is complete, you can launch Jupyter Notebook by running the following command:\n",
    "\n",
    "Copy code\n",
    "jupyter-notebook\n",
    "This will open a new browser window with the Jupyter Notebook interface. From here, you can create and edit Jupyter Notebooks."
   ]
  },
  {
   "cell_type": "markdown",
   "metadata": {},
   "source": [
    "#### Python Reserved Keywords"
   ]
  },
  {
   "cell_type": "code",
   "execution_count": null,
   "metadata": {},
   "outputs": [],
   "source": [
    "import keyword\n",
    "\n",
    "\n",
    "\n",
    "print(keyword.kwlist)\n"
   ]
  },
  {
   "cell_type": "markdown",
   "metadata": {},
   "source": [
    "#### Identifiers"
   ]
  },
  {
   "cell_type": "markdown",
   "metadata": {},
   "source": [
    "An identifier is a name given to entities like class, functions, variables, etc. It helps to differentiate one entity from another.\n",
    "\n",
    "Rules for writing identifiers\n",
    "1. Identifiers can be a combination of letters in lowercase (a to z) or uppercase (A to Z) or digits (0 to 9) or an underscore \n",
    "\n",
    "2. _. Names like myClass, var_1 and print_this_to_screen, all are valid example.\n",
    "\n",
    "3. An identifier cannot start with a digit. 1variable is invalid, but variable1 is a valid name.\n"
   ]
  },
  {
   "cell_type": "code",
   "execution_count": null,
   "metadata": {},
   "outputs": [],
   "source": [
    "_number = 10\n",
    "hjk_78 = 89\n",
    "hj45_78 = 90\n",
    "\n",
    "\n",
    "variable1 = 90\n",
    "\n",
    "\n",
    "print(_number)\n",
    "print(hjk_78)"
   ]
  },
  {
   "cell_type": "code",
   "execution_count": null,
   "metadata": {},
   "outputs": [],
   "source": [
    "print_this_to_screen = \"word\""
   ]
  },
  {
   "cell_type": "markdown",
   "metadata": {},
   "source": [
    "We cannot use special symbols like !, @, #, $, % etc. in our identifier."
   ]
  },
  {
   "cell_type": "markdown",
   "metadata": {},
   "source": [
    "#### Python Comments"
   ]
  },
  {
   "cell_type": "markdown",
   "metadata": {},
   "source": [
    "Comments can be used to explain Python code.\n",
    "\n",
    "Comments can be used to make the code more readable.\n",
    "\n",
    "Comments can be used to prevent execution when testing code."
   ]
  },
  {
   "cell_type": "code",
   "execution_count": null,
   "metadata": {},
   "outputs": [],
   "source": [
    "# This below line will print a message with print statement\n",
    "# this is the command as shortcut key\n",
    "# Ctrl+/\n",
    "# lkjalksdjf\n",
    "#kjadsf\n",
    "# aldkjlaksd\n",
    "\n",
    "# print(\"Hi Learners!\")\n",
    "print(\"Good Eveneing\")\n",
    "\n",
    "#pri(\"kkjasdf\")"
   ]
  },
  {
   "cell_type": "code",
   "execution_count": null,
   "metadata": {},
   "outputs": [],
   "source": [
    "'''\n",
    "This below line will print a message with print statement\n",
    "This below line will print a message with print statement\n",
    "This below line will print a message with print statement\n",
    "This below line will print a message with print statement\n",
    "This below line will print a message with print statement\n",
    "This below line will print a message with print statement\n",
    "This below line will print a message with print statement\n",
    "This below line will print a message with print statement\n",
    "'''\n",
    "\n",
    "# this is the command as shortcut key\n",
    "# Ctrl+/\n",
    "\n",
    "#print(\"Hi Learners!\")    #this is a print statement\n",
    "\n",
    "\n",
    "\n",
    "#pri(\"kkjasdf\")"
   ]
  },
  {
   "cell_type": "markdown",
   "metadata": {},
   "source": [
    "### Python Indentation\n",
    "\n",
    "Indentation refers to the spaces at the beginning of a code line.\n",
    "\n",
    "Where in other programming languages the indentation in code is for readability only, the indentation in Python is very important.\n",
    "\n",
    "Python uses indentation to indicate a block of code.\n",
    "\n",
    "The number of spaces is up to you as a programmer, but it has to be at least one.\n",
    "\n",
    "You have to use the same number of spaces in the same block of code, otherwise Python will give you an error:"
   ]
  },
  {
   "cell_type": "code",
   "execution_count": null,
   "metadata": {},
   "outputs": [],
   "source": [
    "number = 32\n",
    "if number > 30:    \n",
    "    print(\"the number is greater than 30\")\n",
    "     print('the numner is divisible by 5')\n",
    "    if number%5==0:\n",
    "    print(\"This is a even a number as well\")\n",
    "    \n",
    "#there is no condition for below line    \n",
    "print('the numner is even')"
   ]
  },
  {
   "cell_type": "code",
   "execution_count": null,
   "metadata": {},
   "outputs": [],
   "source": [
    "35%5==0"
   ]
  },
  {
   "cell_type": "markdown",
   "metadata": {},
   "source": [
    "### Multile Statements"
   ]
  },
  {
   "cell_type": "code",
   "execution_count": null,
   "metadata": {},
   "outputs": [],
   "source": [
    "# message = \"Hello There.You have come to the right place to learn Python Programming. Follow the tutorials to become expert in Python. Don't forget to share it with your friends too.\"\n",
    "\n",
    "\n",
    "message = \"Hello There.You have come to the right place to learn Python Programming. \" \\\n",
    "          \"Follow the tutorials to become expert in Python. \" \\\n",
    "          \"Don't forget to share it with your friends too.\"\n",
    "\n",
    "\n",
    "print(message)"
   ]
  },
  {
   "cell_type": "code",
   "execution_count": null,
   "metadata": {},
   "outputs": [],
   "source": [
    "# message = \"Hello There.You have come to the right place to learn Python Programming. \" \\\n",
    "#           \"Follow the tutorials to become expert in Python. \" \\\n",
    "#           \"Don't forget to share it with your friends too.\"\n",
    "\n",
    "\n",
    "# message = \"Hello There.You have come to the right place to learn Python Programming. \\\n",
    "# Follow the tutorials to become expert in Python. \\\n",
    "# Don't forget to share it with your friends too.\"\n",
    "        \n",
    "# print(message)\n",
    "\n",
    "\n",
    "math_result = 1 + 2 + 3 + 4 + 5 \\\n",
    "              + 5 + 6 + 7 + 8 + \\\n",
    "              9 + 10\n",
    "\n",
    "\n",
    "math_result = 1 + 2 + 3 + 4 + 5 + 5 + 6 + 7 + 8 + 9 + 10\n",
    "print(math_result)\n",
    "\n",
    "\n",
    "# We can use semicolon (;) to have multiple statements in a single line.\n",
    "# one way\n",
    "x = 1\n",
    "y = 2\n",
    "z = 3 \n",
    "# second way\n",
    "x = 1; y = 2; z = 3\n",
    "# # third way\n",
    "x, y, z = 1, 2, 3\n",
    "\n",
    "print(x,y,z)"
   ]
  },
  {
   "cell_type": "markdown",
   "metadata": {},
   "source": [
    "### Python Variable & Data Types\n",
    "\n",
    "A variable is a location in memory used to store some data (value).\n",
    "\n",
    "They are given unique names to differentiate between different memory locations. The rules for writing a variable name is same as the rules for writing identifiers in Python.\n",
    "\n",
    "We don't need to declare a variable before using it. In Python, we simply assign a value to a variable and it will exist. We don't even have to declare the type of the variable. This is handled internally according to the type of value we assign to the variable."
   ]
  },
  {
   "cell_type": "code",
   "execution_count": null,
   "metadata": {},
   "outputs": [],
   "source": [
    "# Variable Assignments\n",
    "# Creating Variables\n",
    "\n",
    "# each variable has its type ->\n",
    "x = 5   #-> Integer\n",
    "\n",
    "\n",
    "\n",
    "y = \"John\" #-> string type\n",
    "\n",
    "\n",
    "z = \"king\"\n",
    "\n",
    "\n",
    "p = 7.8   #-> float\n",
    "\n",
    "print(type(p))"
   ]
  },
  {
   "cell_type": "code",
   "execution_count": 60,
   "metadata": {},
   "outputs": [
    {
     "name": "stdout",
     "output_type": "stream",
     "text": [
      "121005 121005\n"
     ]
    }
   ],
   "source": [
    "x = \"121005\"\n",
    "p = 121005\n",
    "\n",
    "# y = int(x)\n",
    "\n",
    "\n",
    "print(x+\" \"+str(p))"
   ]
  },
  {
   "cell_type": "code",
   "execution_count": 56,
   "metadata": {},
   "outputs": [
    {
     "name": "stdout",
     "output_type": "stream",
     "text": [
      "<class 'str'>\n",
      "<class 'int'>\n"
     ]
    }
   ],
   "source": [
    "print(type(x))\n",
    "print(type(p))"
   ]
  },
  {
   "cell_type": "markdown",
   "metadata": {},
   "source": [
    "#### Type Casting"
   ]
  },
  {
   "cell_type": "code",
   "execution_count": 67,
   "metadata": {},
   "outputs": [
    {
     "name": "stdout",
     "output_type": "stream",
     "text": [
      "9\n"
     ]
    }
   ],
   "source": [
    "print(int(9.7))\n",
    "\n"
   ]
  },
  {
   "cell_type": "code",
   "execution_count": 64,
   "metadata": {},
   "outputs": [
    {
     "name": "stdout",
     "output_type": "stream",
     "text": [
      "My nameis Raj Kumar and my age is 45\n"
     ]
    }
   ],
   "source": [
    "fname = \"Raj\"\n",
    "lname = \"Kumar\"\n",
    "age = 45\n",
    "# Hi My name is Raj Kumar and my age is 45.\n",
    "\n",
    "# print(\"Hi my name is fname+\" \"lname\" \" and my age is age)\n",
    "print(\"My nameis \"+fname+\" \"+lname+\" and my age is \"+str(age))"
   ]
  },
  {
   "cell_type": "code",
   "execution_count": null,
   "metadata": {},
   "outputs": [],
   "source": [
    "x = \"2\"\n",
    "z = 9\n",
    "\n",
    "print(\"the value of x is \"+ str(x) +\" and the value of z is \"+ str(z))\n",
    "\n",
    "#one way\n",
    "print(\"The value of x is \",x,\" The value of z is\",z)"
   ]
  },
  {
   "cell_type": "code",
   "execution_count": null,
   "metadata": {},
   "outputs": [],
   "source": [
    "# Casting\n",
    "# type casting means to convert the datatype of one variable to another be used in different calc\n",
    "\n",
    "x = str(3)    # x will be '3'\n",
    "y = int(3)    # y will be 3\n",
    "z = float(3)  # z will be 3.0\n",
    "\n",
    "print(x,y,z)\n",
    "print(type(x),type(y),type(z))\n",
    "\n",
    "# Multiple Assignments in single line\n",
    "x = 5; y = \"John\" #one way\n",
    "\n",
    "x, y, z = 5, \"John\", 4.5 #another way\n",
    "\n",
    "print(x,y,z)\n",
    "print(type(x),type(y),type(z))\n"
   ]
  }
 ],
 "metadata": {
  "kernelspec": {
   "display_name": "Python 3",
   "language": "python",
   "name": "python3"
  },
  "language_info": {
   "codemirror_mode": {
    "name": "ipython",
    "version": 3
   },
   "file_extension": ".py",
   "mimetype": "text/x-python",
   "name": "python",
   "nbconvert_exporter": "python",
   "pygments_lexer": "ipython3",
   "version": "3.8.5"
  }
 },
 "nbformat": 4,
 "nbformat_minor": 4
}
