{
 "cells": [
  {
   "cell_type": "markdown",
   "metadata": {},
   "source": [
    "### What is the Benefit of Learning Python"
   ]
  },
  {
   "cell_type": "markdown",
   "metadata": {},
   "source": [
    "There are many benefits to learning Python as a programming language. Some of the most notable benefits include:\n",
    "\n",
    "Python is easy to read and understand: Python's simple, easy-to-learn syntax can help you become more productive, especially if you're new to programming.\n",
    "\n",
    "Python is a high-level language: Python is a high-level language, which means it abstracts away many of the complexities of programming, such as memory management and low-level data types. This makes it easier to focus on solving problems and building applications.\n",
    "\n",
    "Python has a large and active community: As a popular language, Python has a large and active community of users and developers. This means there is a wealth of resources available online, such as documentation, tutorials, and libraries, to help you learn and develop with Python.\n",
    "\n",
    "Python has a wide range of applications: Python is used in a variety of fields, including scientific computing, data analysis, artificial intelligence, and web development. This versatility makes it a good choice for beginners who are not sure what they want to do with programming, as well as for experienced developers who want to expand their skillset.\n",
    "\n",
    "Python has good libraries and frameworks: Python has a number of libraries and frameworks that make it easy to build various types of applications. For example, the Django web framework makes it easy to build server-side web applications, and the NumPy library provides support for efficient numerical computing.\n",
    "\n",
    "\n",
    "\n"
   ]
  },
  {
   "cell_type": "markdown",
   "metadata": {},
   "source": [
    "To install Jupyter Notebook, you will need to have Python installed on your system. You can check if you have Python already installed by opening a terminal or command prompt and entering the following command:\n",
    "\n",
    "Install Python First\n",
    "\n",
    "www.python.org\n",
    "\n",
    "\n",
    "Copy code\n",
    "python --version\n",
    "If you have Python installed, you should see the version number printed on the terminal. If you do not have Python installed, you will need to install it before you can install Jupyter Notebook.\n",
    "\n",
    "Once you have Python installed, you can install Jupyter Notebook by using the pip package manager. Open a terminal or command prompt and enter the following command:\n",
    "\n",
    "Copy code\n",
    "pip install jupyter\n",
    "This will install Jupyter Notebook and all of its dependencies. Once the installation is complete, you can launch Jupyter Notebook by running the following command:\n",
    "\n",
    "Copy code\n",
    "jupyter-notebook\n",
    "This will open a new browser window with the Jupyter Notebook interface. From here, you can create and edit Jupyter Notebooks."
   ]
  },
  {
   "cell_type": "markdown",
   "metadata": {},
   "source": [
    "#### Python Reserved Keywords"
   ]
  },
  {
   "cell_type": "code",
   "execution_count": 5,
   "metadata": {},
   "outputs": [
    {
     "name": "stdout",
     "output_type": "stream",
     "text": [
      "['False', 'None', 'True', 'and', 'as', 'assert', 'async', 'await', 'break', 'class', 'continue', 'def', 'del', 'elif', 'else', 'except', 'finally', 'for', 'from', 'global', 'if', 'import', 'in', 'is', 'lambda', 'nonlocal', 'not', 'or', 'pass', 'raise', 'return', 'try', 'while', 'with', 'yield']\n"
     ]
    }
   ],
   "source": [
    "import keyword\n",
    "print(keyword.kwlist)"
   ]
  },
  {
   "cell_type": "markdown",
   "metadata": {},
   "source": [
    "#### Identifiers"
   ]
  },
  {
   "cell_type": "markdown",
   "metadata": {},
   "source": [
    "An identifier is a name given to entities like class, functions, variables, etc. It helps to differentiate one entity from another.\n",
    "\n",
    "Rules for writing identifiers\n",
    "1. Identifiers can be a combination of letters in lowercase (a to z) or uppercase (A to Z) or digits (0 to 9) or an underscore \n",
    "\n",
    "2. _. Names like myClass, var_1 and print_this_to_screen, all are valid example.\n",
    "\n",
    "3. An identifier cannot start with a digit. 1variable is invalid, but variable1 is a valid name.\n"
   ]
  },
  {
   "cell_type": "code",
   "execution_count": 16,
   "metadata": {},
   "outputs": [
    {
     "name": "stdout",
     "output_type": "stream",
     "text": [
      "10\n"
     ]
    }
   ],
   "source": [
    "_number = 10\n",
    "print(_number)"
   ]
  },
  {
   "cell_type": "code",
   "execution_count": 22,
   "metadata": {},
   "outputs": [
    {
     "data": {
      "text/plain": [
       "str"
      ]
     },
     "execution_count": 22,
     "metadata": {},
     "output_type": "execute_result"
    }
   ],
   "source": [
    "print_this_to_screen = \"word\""
   ]
  },
  {
   "cell_type": "markdown",
   "metadata": {},
   "source": [
    "We cannot use special symbols like !, @, #, $, % etc. in our identifier."
   ]
  },
  {
   "cell_type": "markdown",
   "metadata": {},
   "source": [
    "#### Python Comments"
   ]
  },
  {
   "cell_type": "markdown",
   "metadata": {},
   "source": [
    "Comments can be used to explain Python code.\n",
    "\n",
    "Comments can be used to make the code more readable.\n",
    "\n",
    "Comments can be used to prevent execution when testing code."
   ]
  },
  {
   "cell_type": "code",
   "execution_count": 40,
   "metadata": {},
   "outputs": [
    {
     "name": "stdout",
     "output_type": "stream",
     "text": [
      "Hi Learners!\n"
     ]
    }
   ],
   "source": [
    "## This below line will print a message with print statement\n",
    "# This below line will print a message with print statement\n",
    "# This below line will print a message with print statement\n",
    "# This below line will print a message with print statement\n",
    "# This below line will print a message with print statement\n",
    "# This below line will print a message with print statement\n",
    "# This below line will print a message with print statement\n",
    "# This below line will print a message with print statement\n",
    "\n",
    "\n",
    "# this is the command as shortcut key\n",
    "# Ctrl+/\n",
    "\n",
    "print(\"Hi Learners!\")\n",
    "#pri(\"kkjasdf\")"
   ]
  },
  {
   "cell_type": "code",
   "execution_count": 30,
   "metadata": {},
   "outputs": [
    {
     "name": "stdout",
     "output_type": "stream",
     "text": [
      "Hi Learners!\n"
     ]
    }
   ],
   "source": [
    "'''\n",
    "This below line will print a message with print statement\n",
    "This below line will print a message with print statement\n",
    "This below line will print a message with print statement\n",
    "This below line will print a message with print statement\n",
    "This below line will print a message with print statement\n",
    "This below line will print a message with print statement\n",
    "This below line will print a message with print statement\n",
    "This below line will print a message with print statement\n",
    "'''\n",
    "\n",
    "# this is the command as shortcut key\n",
    "# Ctrl+/\n",
    "\n",
    "print(\"Hi Learners!\")\n",
    "#pri(\"kkjasdf\")"
   ]
  },
  {
   "cell_type": "markdown",
   "metadata": {},
   "source": [
    "### Python Indentation\n",
    "\n",
    "Indentation refers to the spaces at the beginning of a code line.\n",
    "\n",
    "Where in other programming languages the indentation in code is for readability only, the indentation in Python is very important.\n",
    "\n",
    "Python uses indentation to indicate a block of code.\n",
    "\n",
    "The number of spaces is up to you as a programmer, but it has to be at least one.\n",
    "\n",
    "You have to use the same number of spaces in the same block of code, otherwise Python will give you an error:"
   ]
  },
  {
   "cell_type": "code",
   "execution_count": 37,
   "metadata": {},
   "outputs": [
    {
     "name": "stdout",
     "output_type": "stream",
     "text": [
      "hlskhflsd\n",
      "kjasdhfkja\n"
     ]
    }
   ],
   "source": [
    "number1 = 34\n",
    "if number1 > 30:    \n",
    "    print(\"hlskhflsd\")\n",
    "    print('kjasdhfkja')"
   ]
  }
 ],
 "metadata": {
  "kernelspec": {
   "display_name": "Python 3",
   "language": "python",
   "name": "python3"
  },
  "language_info": {
   "codemirror_mode": {
    "name": "ipython",
    "version": 3
   },
   "file_extension": ".py",
   "mimetype": "text/x-python",
   "name": "python",
   "nbconvert_exporter": "python",
   "pygments_lexer": "ipython3",
   "version": "3.8.5"
  }
 },
 "nbformat": 4,
 "nbformat_minor": 4
}
