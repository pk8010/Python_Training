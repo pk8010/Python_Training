{
 "cells": [
  {
   "cell_type": "markdown",
   "metadata": {},
   "source": [
    "#### Frozen Sets\n",
    "\n",
    "-> The frozenset() function returns an immutable frozenset object initialized with elements from the given iterable.\n",
    "\n",
    "-> Frozen set is just an immutable version of a Python set object. While elements of a set can be modified at any time, elements of the frozen set remain the same after creation.\n",
    "\n",
    "-> Due to this, frozen sets can be used as keys in Dictionary or as elements of another set. But like sets, it is not ordered (the elements can be set at any index).\n",
    "\n",
    "-> Like normal sets, frozenset can also perform different operations like copy, difference, intersection, symmetric_difference, and union."
   ]
  },
  {
   "cell_type": "code",
   "execution_count": 1,
   "metadata": {},
   "outputs": [
    {
     "ename": "AttributeError",
     "evalue": "'frozenset' object has no attribute 'add'",
     "output_type": "error",
     "traceback": [
      "\u001b[1;31m---------------------------------------------------------------------------\u001b[0m",
      "\u001b[1;31mAttributeError\u001b[0m                            Traceback (most recent call last)",
      "\u001b[1;32m<ipython-input-1-689a29cc5985>\u001b[0m in \u001b[0;36m<module>\u001b[1;34m\u001b[0m\n\u001b[0;32m      2\u001b[0m \u001b[0mset2\u001b[0m \u001b[1;33m=\u001b[0m \u001b[0mset\u001b[0m\u001b[1;33m(\u001b[0m\u001b[1;33m[\u001b[0m\u001b[1;36m3\u001b[0m\u001b[1;33m,\u001b[0m \u001b[1;36m4\u001b[0m\u001b[1;33m,\u001b[0m \u001b[1;36m5\u001b[0m\u001b[1;33m,\u001b[0m \u001b[1;36m6\u001b[0m\u001b[1;33m]\u001b[0m\u001b[1;33m)\u001b[0m\u001b[1;33m\u001b[0m\u001b[1;33m\u001b[0m\u001b[0m\n\u001b[0;32m      3\u001b[0m \u001b[1;33m\u001b[0m\u001b[0m\n\u001b[1;32m----> 4\u001b[1;33m \u001b[0mset1\u001b[0m\u001b[1;33m.\u001b[0m\u001b[0madd\u001b[0m\u001b[1;33m(\u001b[0m\u001b[1;36m5\u001b[0m\u001b[1;33m)\u001b[0m \u001b[1;31m#try to add element into set1 gives an error\u001b[0m\u001b[1;33m\u001b[0m\u001b[1;33m\u001b[0m\u001b[0m\n\u001b[0m\u001b[0;32m      5\u001b[0m \u001b[1;33m\u001b[0m\u001b[0m\n\u001b[0;32m      6\u001b[0m \u001b[1;31m# print(set1[1]) # frozen set doesn't support indexing\u001b[0m\u001b[1;33m\u001b[0m\u001b[1;33m\u001b[0m\u001b[1;33m\u001b[0m\u001b[0m\n",
      "\u001b[1;31mAttributeError\u001b[0m: 'frozenset' object has no attribute 'add'"
     ]
    }
   ],
   "source": [
    "set1 = frozenset([1, 2, 3, 4])\n",
    "set2 = set([3, 4, 5, 6])\n",
    "\n",
    "set1.add(5) #try to add element into set1 gives an error\n",
    "\n",
    "# print(set1[1]) # frozen set doesn't support indexing\n",
    "\n",
    "# type(set1)"
   ]
  },
  {
   "cell_type": "code",
   "execution_count": 2,
   "metadata": {},
   "outputs": [
    {
     "name": "stdout",
     "output_type": "stream",
     "text": [
      "frozenset({1, 2, 3, 4, 5, 6})\n",
      "frozenset({3, 4})\n",
      "frozenset({1, 2, 5, 6})\n"
     ]
    }
   ],
   "source": [
    "print(set1 | set2) #union of 2 sets\n",
    "\n",
    "#intersection of two sets\n",
    "print(set1 & set2) #or print(set1.intersection(set2))\n",
    "\n",
    "#symmetric difference\n",
    "print(set1 ^ set2) #or print(set1.symmetric_difference(set2))"
   ]
  },
  {
   "cell_type": "markdown",
   "metadata": {},
   "source": [
    "#### Dictionary\n",
    "\n",
    "-> Python dictionary is an unordered collection of items. While other compound data types have only value as an element, a dictionary has a key: value pair."
   ]
  },
  {
   "cell_type": "code",
   "execution_count": 17,
   "metadata": {},
   "outputs": [
    {
     "name": "stdout",
     "output_type": "stream",
     "text": [
      "<class 'set'>\n"
     ]
    }
   ],
   "source": [
    "empyt_set =set()\n",
    "print(type(empyt_set))"
   ]
  },
  {
   "cell_type": "code",
   "execution_count": 12,
   "metadata": {},
   "outputs": [
    {
     "name": "stdout",
     "output_type": "stream",
     "text": [
      "<class 'dict'>\n",
      "{1: 'abc', 2: 'xyz'}\n",
      "{'name': 'rahul', 'name1': 'rahul', 1: ['abc', 'xyz'], 'mobile number': 12345678}\n",
      "12345678\n",
      "{1: 'xyz', 2: 'xyz'}\n"
     ]
    }
   ],
   "source": [
    "#Creation\n",
    "\n",
    "#empty dictionary\n",
    "my_dict = {}\n",
    "print(type(my_dict))\n",
    "\n",
    "#dictionary with integer keys\n",
    "my_dict = {1: 'abc', 2: 'xyz'}\n",
    "print(my_dict)\n",
    "\n",
    "# #dictionary with mixed keys\n",
    "my_dict = {'name': 'rahul','name1':\"rahul\", 1: ['abc', 'xyz'], 'mobile number': 12345678}\n",
    "print(my_dict)\n",
    "\n",
    "print(my_dict['mobile number'])\n",
    "# #create empty dictionary using dict()\n",
    "# my_dict = dict() #list() tuple()\n",
    "\n",
    "my_dict = dict([(1, 'xyz'), \n",
    "                (2, 'xyz')])    #create a dict with list of tuples\n",
    "print(my_dict)"
   ]
  },
  {
   "cell_type": "code",
   "execution_count": 29,
   "metadata": {},
   "outputs": [
    {
     "data": {
      "text/html": [
       "<div>\n",
       "<style scoped>\n",
       "    .dataframe tbody tr th:only-of-type {\n",
       "        vertical-align: middle;\n",
       "    }\n",
       "\n",
       "    .dataframe tbody tr th {\n",
       "        vertical-align: top;\n",
       "    }\n",
       "\n",
       "    .dataframe thead th {\n",
       "        text-align: right;\n",
       "    }\n",
       "</style>\n",
       "<table border=\"1\" class=\"dataframe\">\n",
       "  <thead>\n",
       "    <tr style=\"text-align: right;\">\n",
       "      <th></th>\n",
       "      <th>name</th>\n",
       "      <th>age</th>\n",
       "      <th>address</th>\n",
       "      <th>contact</th>\n",
       "      <th>state</th>\n",
       "    </tr>\n",
       "  </thead>\n",
       "  <tbody>\n",
       "    <tr>\n",
       "      <th>0</th>\n",
       "      <td>rahul</td>\n",
       "      <td>17</td>\n",
       "      <td>rohtak</td>\n",
       "      <td>1</td>\n",
       "      <td>UK</td>\n",
       "    </tr>\n",
       "    <tr>\n",
       "      <th>1</th>\n",
       "      <td>vijay</td>\n",
       "      <td>18</td>\n",
       "      <td>delhi</td>\n",
       "      <td>2</td>\n",
       "      <td>UK</td>\n",
       "    </tr>\n",
       "    <tr>\n",
       "      <th>2</th>\n",
       "      <td>kunal</td>\n",
       "      <td>19</td>\n",
       "      <td>chennai</td>\n",
       "      <td>3</td>\n",
       "      <td>UK</td>\n",
       "    </tr>\n",
       "  </tbody>\n",
       "</table>\n",
       "</div>"
      ],
      "text/plain": [
       "    name  age  address  contact state\n",
       "0  rahul   17   rohtak        1    UK\n",
       "1  vijay   18    delhi        2    UK\n",
       "2  kunal   19  chennai        3    UK"
      ]
     },
     "execution_count": 29,
     "metadata": {},
     "output_type": "execute_result"
    }
   ],
   "source": [
    "import pandas as pd\n",
    "\n",
    "# my_dict = {'name': 'rahul', 'age': 17, 'address': 'rohtak'}\n",
    "\n",
    "\n",
    "my_dict = {'name': ['rahul','vijay','kunal'], \n",
    "           'age': [17,18,19], \n",
    "           'address': ['rohtak', 'delhi','chennai'], \n",
    "           'contact':[1,2,3],\n",
    "          'state':'UK'}\n",
    "\n",
    "# print(my_dict['address'][1])\n",
    "# pd.DataFrame(my_dict)\n",
    "\n",
    "\n",
    "\n",
    "\n",
    "#get name\n",
    "# print(my_dict['state'])\n",
    "\n",
    "# print(my_dict['name'][0], my_dict['age'][0], my_dict['address'][0])\n",
    "# print(my_dict['name'][1], my_dict['age'][1], my_dict['address'][1])\n",
    "\n",
    "# for i in my_dict.items():\n",
    "#     print(i)\n",
    "#     print(i)\n",
    "#     my_dict['name'][i], my_dict['age'][i], my_dict['address'][i]\n",
    "\n",
    "\n",
    "# import pandas as pd\n",
    "\n",
    "(pd.DataFrame(my_dict))\n",
    "\n",
    "\n"
   ]
  },
  {
   "cell_type": "code",
   "execution_count": 23,
   "metadata": {},
   "outputs": [
    {
     "data": {
      "text/plain": [
       "{'name': ['rahul', 'vijay', 'kunal'],\n",
       " 'age': [17, 18, 19],\n",
       " 'address': ['rohtak', 'delhi', 'chennai'],\n",
       " 'contact': [1, 2, 3]}"
      ]
     },
     "execution_count": 23,
     "metadata": {},
     "output_type": "execute_result"
    }
   ],
   "source": [
    "my_dict"
   ]
  },
  {
   "cell_type": "code",
   "execution_count": 25,
   "metadata": {},
   "outputs": [
    {
     "ename": "KeyError",
     "evalue": "'state'",
     "output_type": "error",
     "traceback": [
      "\u001b[1;31m---------------------------------------------------------------------------\u001b[0m",
      "\u001b[1;31mKeyError\u001b[0m                                  Traceback (most recent call last)",
      "\u001b[1;32m<ipython-input-25-398a1a44546e>\u001b[0m in \u001b[0;36m<module>\u001b[1;34m\u001b[0m\n\u001b[1;32m----> 1\u001b[1;33m \u001b[0mprint\u001b[0m\u001b[1;33m(\u001b[0m\u001b[0mmy_dict\u001b[0m\u001b[1;33m[\u001b[0m\u001b[1;34m\"state\"\u001b[0m\u001b[1;33m]\u001b[0m\u001b[1;33m)\u001b[0m\u001b[1;33m\u001b[0m\u001b[1;33m\u001b[0m\u001b[0m\n\u001b[0m",
      "\u001b[1;31mKeyError\u001b[0m: 'state'"
     ]
    }
   ],
   "source": [
    "print(my_dict[\"state\"])\n"
   ]
  },
  {
   "cell_type": "code",
   "execution_count": 30,
   "metadata": {},
   "outputs": [
    {
     "name": "stdout",
     "output_type": "stream",
     "text": [
      "UK\n"
     ]
    }
   ],
   "source": [
    "# print(my_dict[\"state\"]) #will throw error\n",
    "\n",
    "# print(my_dict.get('state')) #will not throw error, some value can be given if value not present\n",
    "\n",
    "print(my_dict.get('state',\"Haryana\")) #will not throw error, some value can be given if value not present'"
   ]
  },
  {
   "cell_type": "code",
   "execution_count": 31,
   "metadata": {},
   "outputs": [
    {
     "data": {
      "text/plain": [
       "{'name': ['rahul', 'vijay', 'kunal'],\n",
       " 'age': [17, 18, 19],\n",
       " 'address': ['rohtak', 'delhi', 'chennai'],\n",
       " 'contact': [1, 2, 3],\n",
       " 'state': 'UK'}"
      ]
     },
     "execution_count": 31,
     "metadata": {},
     "output_type": "execute_result"
    }
   ],
   "source": [
    "my_dict"
   ]
  },
  {
   "cell_type": "code",
   "execution_count": 32,
   "metadata": {},
   "outputs": [
    {
     "name": "stdout",
     "output_type": "stream",
     "text": [
      "{'name': ['rahul', 'vijay', 'kunal'], 'age': 0, 'address': ['rohtak', 'delhi', 'chennai'], 'contact': [1, 2, 3], 'state': 'UK'}\n",
      "{'name': ['rahul', 'vijay', 'kunal'], 'age': 0, 'address': ['rohtak', 'delhi', 'chennai'], 'contact': [1, 2, 3], 'state': 'UK', 'country': 'India'}\n"
     ]
    }
   ],
   "source": [
    "# Add or Modify Elements\n",
    "my_dict['age'] = 0 # modify\n",
    "print(my_dict)\n",
    "\n",
    "my_dict[\"country\"] = 'India' #add key\n",
    "print(my_dict)"
   ]
  },
  {
   "cell_type": "code",
   "execution_count": 33,
   "metadata": {},
   "outputs": [
    {
     "name": "stdout",
     "output_type": "stream",
     "text": [
      "{'carname': 'alto', 'model': 2019, 'brand': 'maruti'}\n",
      "alto\n",
      "{'model': 2019, 'brand': 'maruti'}\n"
     ]
    }
   ],
   "source": [
    "# Delete or Remove Element\n",
    "\n",
    "#create a dictionary\n",
    "my_dict = {'carname': 'alto', 'model': 2019, 'brand': 'maruti'}\n",
    "print(my_dict)\n",
    "#remove a particular item\n",
    "print(my_dict.pop('carname')) #returns the key which is being deleted\n",
    "\n",
    "print(my_dict)"
   ]
  },
  {
   "cell_type": "code",
   "execution_count": 34,
   "metadata": {},
   "outputs": [],
   "source": [
    "del my_dict['model']"
   ]
  },
  {
   "cell_type": "code",
   "execution_count": 35,
   "metadata": {},
   "outputs": [
    {
     "data": {
      "text/plain": [
       "{'brand': 'maruti'}"
      ]
     },
     "execution_count": 35,
     "metadata": {},
     "output_type": "execute_result"
    }
   ],
   "source": [
    "my_dict"
   ]
  },
  {
   "cell_type": "code",
   "execution_count": 39,
   "metadata": {},
   "outputs": [
    {
     "data": {
      "text/plain": [
       "dict_items([('carname', 'alto'), ('model', 2019), ('brand', 'maruti'), ('Purchase_State', 'Haryana'), ('wheelname ', 'maruti')])"
      ]
     },
     "execution_count": 39,
     "metadata": {},
     "output_type": "execute_result"
    }
   ],
   "source": [
    "#remove an arbitarty key\n",
    "my_dict = {'carname': 'alto', 'model': 2019, 'brand': 'maruti', 'Purchase_State':\"Haryana\", \"wheelname \": \"maruti\"}\n",
    "\n",
    "my_dict.values()\n",
    "my_dict.keys()\n",
    "my_dict.items()"
   ]
  },
  {
   "cell_type": "code",
   "execution_count": 45,
   "metadata": {},
   "outputs": [
    {
     "name": "stdout",
     "output_type": "stream",
     "text": [
      "False\n",
      "False\n",
      "True\n",
      "False\n",
      "True\n"
     ]
    }
   ],
   "source": [
    "for item in my_dict.keys():\n",
    "    print(my_dict[item]=='maruti')\n",
    "    "
   ]
  },
  {
   "cell_type": "code",
   "execution_count": 48,
   "metadata": {},
   "outputs": [
    {
     "name": "stdout",
     "output_type": "stream",
     "text": [
      "{'Python': 2, 'is': 2, 'a': 1, 'high-level,': 1, 'general-purpose': 1, 'programming': 2, 'language.': 1, 'Its': 1, 'design': 1, 'philosophy': 1, 'emphasizes': 1, 'code': 1, 'readability': 1, 'with': 1, 'the': 1, 'use': 1, 'of': 1, 'significant': 1, 'indentation.': 1, 'dynamically': 1, 'typed': 1, 'and': 2, 'garbage-collected.': 1, 'It': 1, 'supports': 1, 'multiple': 1, 'paradigms,': 1, 'including': 1, 'structured,': 1, 'object-oriented': 1, 'functional': 1}\n"
     ]
    }
   ],
   "source": [
    "string1 = \"Python is a high-level, general-purpose programming language. Its design philosophy emphasizes code readability with the use of significant indentation. Python is dynamically typed and garbage-collected. It supports multiple programming paradigms, including structured, object-oriented and functional\"\n",
    "# print(string1)\n",
    "\n",
    "# find the freq of each word using dictionary without count function of list\n",
    "\n",
    "dict1 ={}\n",
    "\n",
    "for word in string1.split():\n",
    "    if word in dict1:\n",
    "        dict1[word] += 1\n",
    "    else:\n",
    "        dict1[word] = 1\n",
    "print(dict1)\n"
   ]
  },
  {
   "cell_type": "code",
   "execution_count": null,
   "metadata": {},
   "outputs": [],
   "source": [
    "#remove all items\n",
    "my_dict.clear()\n",
    "\n",
    "print(my_dict)\n",
    "\n",
    "del my_dict #list, tuple\n",
    "\n",
    "print(my_dict) #NameError because dict is deleted"
   ]
  },
  {
   "cell_type": "code",
   "execution_count": 49,
   "metadata": {},
   "outputs": [
    {
     "name": "stdout",
     "output_type": "stream",
     "text": [
      "<class 'dict'>\n"
     ]
    }
   ],
   "source": [
    "# Dictionary Methods\n",
    "squares = {2: 4, 3: 9, 4: 16, 5: 25}\n",
    "\n",
    "my_dict = squares.copy() #creating copy of any object for list, tuple\n",
    "print(type(my_dict))"
   ]
  },
  {
   "cell_type": "code",
   "execution_count": 52,
   "metadata": {},
   "outputs": [
    {
     "name": "stdout",
     "output_type": "stream",
     "text": [
      "{'Math': [0, 1], 'English': [0, 1], 'Hindi': [0, 1]}\n"
     ]
    }
   ],
   "source": [
    "subjects = {}.fromkeys(['Math', 'English', 'Hindi'],[0,1])\n",
    "print(subjects)"
   ]
  },
  {
   "cell_type": "code",
   "execution_count": 53,
   "metadata": {},
   "outputs": [
    {
     "name": "stdout",
     "output_type": "stream",
     "text": [
      "dict_items([(2, 4), (3, 9), (4, 16), (5, 25)])\n",
      "dict_keys([2, 3, 4, 5])\n",
      "dict_values([4, 9, 16, 25])\n"
     ]
    }
   ],
   "source": [
    "print((squares.items()))\n",
    "print(squares.keys())\n",
    "print(squares.values()) "
   ]
  },
  {
   "cell_type": "code",
   "execution_count": 54,
   "metadata": {},
   "outputs": [
    {
     "name": "stdout",
     "output_type": "stream",
     "text": [
      "['__add__', '__class__', '__contains__', '__delattr__', '__dir__', '__doc__', '__eq__', '__format__', '__ge__', '__getattribute__', '__getitem__', '__getnewargs__', '__gt__', '__hash__', '__init__', '__init_subclass__', '__iter__', '__le__', '__len__', '__lt__', '__mul__', '__ne__', '__new__', '__reduce__', '__reduce_ex__', '__repr__', '__rmul__', '__setattr__', '__sizeof__', '__str__', '__subclasshook__', 'count', 'index']\n"
     ]
    }
   ],
   "source": [
    "#get list of all available methods and attributes of dictionary\n",
    "d = {}\n",
    "list1 = []\n",
    "tuple1 =()\n",
    "print(dir(tuple1))"
   ]
  },
  {
   "cell_type": "code",
   "execution_count": 6,
   "metadata": {},
   "outputs": [
    {
     "name": "stdout",
     "output_type": "stream",
     "text": [
      "{'b': 2, 'd': 4, 'f': 6, 'h': 8}\n"
     ]
    }
   ],
   "source": [
    "d = {'a': 1, 'b': 2, 'c': 3, 'd': 4, 'e':5,'f':6,'g':7,'h':8}\n",
    "# Find the Keys for which the values are even.\n",
    "#Answer b,d,f,h\n",
    "\n",
    "\n",
    "key_dict = {}\n",
    "for key, val in d.items():\n",
    "    if val%2==0:\n",
    "#         print(key)\n",
    "        key_dict[key] = val\n",
    "print(key_dict)\n",
    "    "
   ]
  },
  {
   "cell_type": "code",
   "execution_count": 8,
   "metadata": {},
   "outputs": [
    {
     "name": "stdout",
     "output_type": "stream",
     "text": [
      "{'cc': 6, 'dc': 8, 'ec': 10, 'fc': 12, 'gc': 14, 'hc': 16}\n"
     ]
    }
   ],
   "source": [
    "# Dict Comprehension\n",
    "#Dict comprehensions are just like list comprehensions but for dictionaries\n",
    "\n",
    "# new_d = {}\n",
    "# for key, value in d.items():\n",
    "# #     print(key, value)\n",
    "#     if value%2==0:\n",
    "#         print(key, value)\n",
    "#         new_d[key] = value\n",
    "# print(new_d)        \n",
    "\n",
    "        \n",
    "        \n",
    "# new_dict = {k:v for k, v in d.items() if v%2==0} # dict comprehension\n",
    "# print(new_dict)\n",
    "# for k,v in d.items():\n",
    "#     print(k,v)\n",
    "    \n",
    "# print()\n",
    "# new_dict = {k:v  for k, v in d.items() if v > 2} # dict comprehension\n",
    "# print(new_dict)\n",
    "\n",
    "# print()\n",
    "# # performing operations on the key value pairs\n",
    "d = {k+'c': v*2     for k, v in d.items() if v > 2} # dict comprehension\n",
    "print(d)\n",
    "# new_dict"
   ]
  },
  {
   "cell_type": "code",
   "execution_count": 11,
   "metadata": {},
   "outputs": [
    {
     "name": "stdout",
     "output_type": "stream",
     "text": [
      "a\n"
     ]
    }
   ],
   "source": [
    "# Get the key of a max value from the following dictionary\n",
    "test = {'from': 45, 'wikipedia,': 11, 'in': 12, 'mathematics,': 16, 'a': 63, 'set': 28, 'is': 10}\n",
    "\n",
    "# Answer-- From\n",
    "max_num = max(test.values())\n",
    "# print(max_num)\n",
    "\n",
    "\n",
    "\n",
    "for key, val in test.items():\n",
    "    if val == max_num:\n",
    "        print(key)        \n",
    "        \n",
    "        \n",
    "list1 = [1,2,,45,7,7,4,24,5,6]\n",
    "# how to find max\n",
    "\n",
    "# without using max find the key of max value.\n"
   ]
  },
  {
   "cell_type": "markdown",
   "metadata": {},
   "source": [
    "#### Strings\n",
    "-> A string is a sequence of characters.\n",
    "\n",
    "-> In Python, string is a sequence of Unicode or ASCII character."
   ]
  },
  {
   "cell_type": "code",
   "execution_count": 12,
   "metadata": {},
   "outputs": [
    {
     "name": "stdout",
     "output_type": "stream",
     "text": [
      "Hello World\n",
      "Hello World kashdfkajsldkflkajsdlkfj asdlfkjlaksjdflk ljalksdfhiisk kasjdlfkjalksdjflak\n",
      "Hello lkajsdlkf \n",
      "lkjasldkf\n",
      "kjashdkf\n",
      "khkjasdf\n",
      "kjhasdf\n",
      "khkajsdf\n",
      "lkjahsdf\n",
      "\n",
      "H\n",
      "o\n",
      "llo\n"
     ]
    }
   ],
   "source": [
    "\n",
    "myString = 'Hello World'\n",
    "print(myString)\n",
    "\n",
    "\n",
    "\n",
    "myString = \"Hello World kashdfkajsldkflkajsdlkfj \\\n",
    "asdlfkjlaksjdflk ljalksdfhiisk \\\n",
    "kasjdlfkjalksdjflak\"\n",
    "print(myString)\n",
    "\n",
    "\n",
    "my_string = '''Hello lkajsdlkf \n",
    "lkjasldkf\n",
    "kjashdkf\n",
    "khkjasdf\n",
    "kjhasdf\n",
    "khkajsdf\n",
    "lkjahsdf\n",
    "''' \n",
    "\n",
    "\n",
    "# generally used for multiline string or docstring\n",
    "print(myString)\n",
    "\n",
    "# accessing characters\n",
    "myString = \"Hello\"\n",
    "\n",
    "#print first Character\n",
    "print(myString[0])\n",
    "\n",
    "#print last character using negative indexing\n",
    "print(myString[-1])\n",
    "\n",
    "#slicing 2nd to 5th character\n",
    "print(myString[2:5])"
   ]
  },
  {
   "cell_type": "code",
   "execution_count": 16,
   "metadata": {},
   "outputs": [
    {
     "ename": "TypeError",
     "evalue": "'str' object doesn't support item deletion",
     "output_type": "error",
     "traceback": [
      "\u001b[1;31m---------------------------------------------------------------------------\u001b[0m",
      "\u001b[1;31mTypeError\u001b[0m                                 Traceback (most recent call last)",
      "\u001b[1;32m<ipython-input-16-cf263ffb8cb2>\u001b[0m in \u001b[0;36m<module>\u001b[1;34m\u001b[0m\n\u001b[0;32m      6\u001b[0m \u001b[1;33m\u001b[0m\u001b[0m\n\u001b[0;32m      7\u001b[0m \u001b[1;31m# Not possible\u001b[0m\u001b[1;33m\u001b[0m\u001b[1;33m\u001b[0m\u001b[1;33m\u001b[0m\u001b[0m\n\u001b[1;32m----> 8\u001b[1;33m \u001b[1;32mdel\u001b[0m \u001b[0mmyString\u001b[0m\u001b[1;33m[\u001b[0m\u001b[1;36m3\u001b[0m\u001b[1;33m]\u001b[0m\u001b[1;33m\u001b[0m\u001b[1;33m\u001b[0m\u001b[0m\n\u001b[0m",
      "\u001b[1;31mTypeError\u001b[0m: 'str' object doesn't support item deletion"
     ]
    }
   ],
   "source": [
    "# change or delete a character in string\n",
    "# Strings are immutable. This means that elements of a string cannot be changed once it has been assigned. \n",
    "# We can simply reassign different strings to the same name.\n",
    "myString = \"Hello\"\n",
    "# myString[4] = 's' # strings are immutable\n",
    "\n",
    "# Not possible\n",
    "del myString[3]"
   ]
  },
  {
   "cell_type": "code",
   "execution_count": 19,
   "metadata": {},
   "outputs": [
    {
     "name": "stdout",
     "output_type": "stream",
     "text": [
      "First Second\n",
      "First First First First First First First First First First First First First First First First First First First First First First First First First First First First First First \n"
     ]
    }
   ],
   "source": [
    "# Concatenation\n",
    "# + operator -> concatenate\n",
    "# * operator can be used to repeat the string\n",
    "\n",
    "s1 = \"First \"\n",
    "# s1 = ['a','b']\n",
    "s2 = \"Second\"\n",
    "\n",
    "#concatenation of 2 strings\n",
    "print(s1 + s2)\n",
    "\n",
    "#repeat string n times\n",
    "print(s1 * 30)"
   ]
  },
  {
   "cell_type": "code",
   "execution_count": null,
   "metadata": {},
   "outputs": [],
   "source": [
    "string1 = \"from wikipedia, in mathematics, a set is a collection of distinct elements. the elements that make up a set can be any kind of things: people, letters of the alphabet, numbers, points in space, lines, other geometrical shapes, variables, or even other sets. two sets are equalif and only if they have precisely the same elements\"\n",
    "\n",
    "{'a':\n",
    "'e':\n",
    "'i',}\n",
    "\n",
    "\n",
    "\n",
    "\n",
    "\n",
    "\n",
    "# vowel_count = 0\n",
    "# for char in string1:\n",
    "#     if cr in list1:\n",
    "#         vowel_dict[char] = string1.count(char)\n",
    "        \n",
    "# print(sum(vowel_dict.values()))\n",
    "      \n",
    "# print(vowel_dict)\n",
    "        \n",
    "    \n",
    "    \n",
    "# str1 = 'Python Basics'.lower()\n",
    "# vowel = 0\n",
    "# list1 = [ 'a' , 'e' , 'i' ,'o' , 'u']\n",
    "# for i in str1:\n",
    "#     for j in list1:\n",
    "#         if i == j:\n",
    "#             vowel += 1\n",
    "#             print (i)\n",
    "#             print(vowel)\n"
   ]
  },
  {
   "cell_type": "code",
   "execution_count": 21,
   "metadata": {},
   "outputs": [
    {
     "name": "stdout",
     "output_type": "stream",
     "text": [
      "True\n",
      "True\n"
     ]
    }
   ],
   "source": [
    "# Iterating Through String\n",
    "# Membership Test #list, tuple\n",
    "print('l' in 'Hello World') #in operator to test membership\n",
    "print('Hello' in 'Hello World')\n"
   ]
  },
  {
   "cell_type": "code",
   "execution_count": 36,
   "metadata": {},
   "outputs": [
    {
     "name": "stdout",
     "output_type": "stream",
     "text": [
      "This will split all words in a list \n"
     ]
    }
   ],
   "source": [
    "# Methods\n",
    "\n",
    "# methods are lower(), upper(), join(), split(), find(), replace()\n",
    "\n",
    "# print(\"Hello\".lower())\n",
    "\n",
    "# print(\"Hello\".upper())\n",
    "# print(\"Hello\".title())\n",
    "# print(\"This will split all words in a list\".split(',')) #white space \n",
    "\n",
    "#7\n",
    "list1 = ['This', 'will', 'split', 'all', 'words', 'in', 'a', 'list']\n",
    "# Combine the element of list to form a sentence.\n",
    "\n",
    "# print(' '.join(list1))\n",
    "\n",
    "# without join.... loops\n",
    "# hint use concatenate operator\n",
    "\n",
    "\n",
    "ans = ''\n",
    "for v in list1:\n",
    "    ans = ans + v + ' '\n",
    "print(ans)\n",
    "\n",
    "\n"
   ]
  },
  {
   "cell_type": "code",
   "execution_count": 42,
   "metadata": {},
   "outputs": [
    {
     "data": {
      "text/plain": [
       "'This is a book'"
      ]
     },
     "execution_count": 42,
     "metadata": {},
     "output_type": "execute_result"
    }
   ],
   "source": [
    "\" This is a book ) \".strip().rstrip(')').strip()\n",
    "\n",
    "list1 = [\" This is a book ) \",\n",
    "        \" This is a book [ \",\n",
    "        \" This is a book * \",\n",
    "        \" This is a book & \"]\n",
    "\n",
    "# can you write a programm to clean and remove unnecessary spaces.\n",
    "\n",
    "\n",
    "\n"
   ]
  },
  {
   "cell_type": "code",
   "execution_count": 47,
   "metadata": {},
   "outputs": [
    {
     "data": {
      "text/plain": [
       "6"
      ]
     },
     "execution_count": 47,
     "metadata": {},
     "output_type": "execute_result"
    }
   ],
   "source": [
    "sent.lstrip()\n",
    "#finding index of first occurance character\n",
    "\"Good Morning\".rfind(\"o\")"
   ]
  },
  {
   "cell_type": "code",
   "execution_count": 52,
   "metadata": {},
   "outputs": [
    {
     "data": {
      "text/plain": [
       "'gninroM dooG'"
      ]
     },
     "execution_count": 52,
     "metadata": {},
     "output_type": "execute_result"
    }
   ],
   "source": [
    "str1 = \"Good Morning\"\n",
    "str1[::-1]"
   ]
  },
  {
   "cell_type": "code",
   "execution_count": null,
   "metadata": {},
   "outputs": [],
   "source": [
    "# Python Program to Check where a String is Palindrome or not ?\n",
    "# str1 = 'abc'\n",
    "str1 = 'madam'\n",
    "\n",
    "\n",
    "str1\n",
    "\n",
    "# first find how to reverse a string\n",
    "# indexing of the list\n",
    "# there we saw how we can reverse a list.\n",
    "\n",
    "# Check if the given string is palindrome or not using indexation or for loop.\n",
    "kayak\n",
    "deified\n",
    "rotator\n",
    "repaper\n",
    "deed\n",
    "peep\n",
    "wow\n",
    "noon\n",
    "    \n",
    "# Python Program to Sort Words in Alphabetic Order?"
   ]
  },
  {
   "cell_type": "markdown",
   "metadata": {},
   "source": [
    "## Functions\n",
    "\n",
    "https://www.w3schools.com/python/python_functions.asp\n",
    "\n",
    "Function is a group of related statements that perform a specific task.\n",
    "\n",
    "Functions help break our program into smaller and modular chunks. As our program grows larger and larger, functions make it more organized and manageable.\n",
    "\n",
    "It avoids repetition and makes code reusable.\n",
    "\n",
    "\n",
    "\n"
   ]
  },
  {
   "cell_type": "markdown",
   "metadata": {},
   "source": [
    "1. keyword \"def\" marks the start of function header\n",
    "\n",
    "2. Parameters (arguments) through which we pass values to a function. These are optional\n",
    "\n",
    "3. A colon(:) to mark the end of funciton header\n",
    "\n",
    "4. Doc string describe what the function does. This is optional\n",
    "\n",
    "5. \"return\" statement to return a value from the function. This is optional"
   ]
  },
  {
   "cell_type": "code",
   "execution_count": 60,
   "metadata": {},
   "outputs": [],
   "source": [
    "# num**2 + num**3\n",
    "def calc(num):\n",
    "    \"\"\"\n",
    "    This function gives the following calculations num**2 + num**3\n",
    "    \"\"\"\n",
    "    print(num**2 + num**3)"
   ]
  },
  {
   "cell_type": "code",
   "execution_count": 53,
   "metadata": {},
   "outputs": [],
   "source": [
    "def calc(n):\n",
    "    print(n**2 + n**3)"
   ]
  },
  {
   "cell_type": "code",
   "execution_count": 56,
   "metadata": {},
   "outputs": [],
   "source": [
    "def greet_func(name):\n",
    "    print(\"Hello \"+name+\" How are you?\")"
   ]
  },
  {
   "cell_type": "code",
   "execution_count": 66,
   "metadata": {},
   "outputs": [
    {
     "name": "stdout",
     "output_type": "stream",
     "text": [
      "type(object_or_name, bases, dict)\n",
      "type(object) -> the object's type\n",
      "type(name, bases, dict) -> a new type\n"
     ]
    }
   ],
   "source": [
    "print(type.__doc__)"
   ]
  },
  {
   "cell_type": "code",
   "execution_count": 55,
   "metadata": {},
   "outputs": [
    {
     "name": "stdout",
     "output_type": "stream",
     "text": [
      "950796\n"
     ]
    }
   ],
   "source": [
    "calc(98)"
   ]
  },
  {
   "cell_type": "code",
   "execution_count": 59,
   "metadata": {},
   "outputs": [
    {
     "name": "stdout",
     "output_type": "stream",
     "text": [
      "Hello Pankaj How are you?\n"
     ]
    }
   ],
   "source": [
    "greet_func(\"Pankaj\")"
   ]
  },
  {
   "cell_type": "code",
   "execution_count": 75,
   "metadata": {},
   "outputs": [],
   "source": [
    "def contains_vowel(str1):\n",
    "    for vowel in ['a','e','i','o','u']:\n",
    "        if vowel in str1:\n",
    "            print(True)\n",
    "            break\n",
    "    print(False)"
   ]
  },
  {
   "cell_type": "code",
   "execution_count": 78,
   "metadata": {},
   "outputs": [],
   "source": [
    "string1 = \"tihl\""
   ]
  },
  {
   "cell_type": "code",
   "execution_count": 79,
   "metadata": {},
   "outputs": [
    {
     "name": "stdout",
     "output_type": "stream",
     "text": [
      "True\n",
      "False\n"
     ]
    }
   ],
   "source": [
    "contains_vowel(string1)"
   ]
  },
  {
   "cell_type": "code",
   "execution_count": 80,
   "metadata": {},
   "outputs": [],
   "source": [
    "# create a function which will return a to the power b, both a and b will input always.\n",
    "2,3 - 8\n",
    "3,4 - 81\n",
    "\n",
    "def power(a,b):\n",
    "    print(a**b)"
   ]
  },
  {
   "cell_type": "code",
   "execution_count": 83,
   "metadata": {},
   "outputs": [
    {
     "name": "stdout",
     "output_type": "stream",
     "text": [
      "1322070819480806636890455259752144365965422032752148167664920368226828597346704899540778313850608061963909777696872582355950954582100618911865342725257953674027620225198320803878014774228964841274390400117588618041128947815623094438061566173054086674490506178125480344405547054397038895817465368254916136220830268563778582290228416398307887896918556404084898937609373242171846359938695516765018940588109060426089671438864102814350385648747165832010614366132173102768902855220001\n"
     ]
    }
   ],
   "source": [
    "power(9,500)"
   ]
  },
  {
   "cell_type": "markdown",
   "metadata": {},
   "source": [
    "Return Statement:\n",
    "\n",
    "-> return statement can contain an expression which gets evaluated and the value is returned.\n",
    "\n",
    "-> if there is no expression in the statement or the return statement itself is not present inside a function, then the function will return None Object"
   ]
  },
  {
   "cell_type": "code",
   "execution_count": 96,
   "metadata": {},
   "outputs": [],
   "source": [
    "def power(a,b):\n",
    "    return (a**b)"
   ]
  },
  {
   "cell_type": "code",
   "execution_count": 97,
   "metadata": {},
   "outputs": [
    {
     "name": "stdout",
     "output_type": "stream",
     "text": [
      "1024\n"
     ]
    }
   ],
   "source": [
    "output = power(4,5)\n",
    "\n",
    "print(output)"
   ]
  },
  {
   "cell_type": "code",
   "execution_count": null,
   "metadata": {},
   "outputs": [],
   "source": []
  },
  {
   "cell_type": "code",
   "execution_count": null,
   "metadata": {},
   "outputs": [],
   "source": [
    "# list1 = [2,3,4,5,6,6,9]   ->2*3*4*5...=\n",
    "# list2 = [122,33,44,55,46,6,9]\n",
    "\n",
    "# create a function which will take input as a list and product the output as multiplation of all elements.\n",
    "\n",
    "\n",
    "\n",
    "\n",
    "\n",
    "\n",
    "\n",
    "\n"
   ]
  }
 ],
 "metadata": {
  "kernelspec": {
   "display_name": "Python 3",
   "language": "python",
   "name": "python3"
  },
  "language_info": {
   "codemirror_mode": {
    "name": "ipython",
    "version": 3
   },
   "file_extension": ".py",
   "mimetype": "text/x-python",
   "name": "python",
   "nbconvert_exporter": "python",
   "pygments_lexer": "ipython3",
   "version": "3.8.5"
  }
 },
 "nbformat": 4,
 "nbformat_minor": 4
}
